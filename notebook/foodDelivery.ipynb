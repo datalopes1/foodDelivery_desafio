{
 "cells": [
  {
   "cell_type": "markdown",
   "id": "6d01c78a-d034-4875-93af-0aede0ba5162",
   "metadata": {},
   "source": [
    "# 1. Desafio Delivery Center: Food & Goods\n",
    "\n",
    "Este projeto é resultado de um desafio do grupo de assinaturas Universidade dos Dados, feito a partir do dataset Delivery Center: Food & Goods orders in Brazil disponível no [Kaggle](https://www.kaggle.com/datasets/nosbielcs/brazilian-delivery-center) e enviado por [Nosbielcs](https://www.kaggle.com/nosbielcs)."
   ]
  },
  {
   "cell_type": "markdown",
   "id": "bcfedc98-9c6d-4745-9333-02aafb099d56",
   "metadata": {},
   "source": [
    "![Imagem](https://images.unsplash.com/photo-1526367790999-0150786686a2?q=80&w=2071&auto=format&fit=crop&ixlib=rb-4.0.3&ixid=M3wxMjA3fDB8MHxwaG90by1wYWdlfHx8fGVufDB8fHx8fA%3D%3D)"
   ]
  },
  {
   "cell_type": "markdown",
   "id": "2af65826-dc9c-46d0-aef1-4dd5d96f6264",
   "metadata": {},
   "source": [
    "## 1.1. O desafio\n",
    "\n",
    "Trabalhamos em uma startup de delivery, em um time de dados centralizado que atende diversas áreas e recebemos algumas demandas:\n",
    "\n",
    "- Numa ação de marketing, para atrair mais entregadores, vamos dar uma bonificação para os 20 entregadores que possuem maior distância percorrida ao todo. A bonificação vai variar de acordo com o tipo de profissional que ele é e o modelo que ele usa para se locomover (moto, bike, etc). Levante essas informações.\n",
    "- Além disso, o time de Pricing precisa ajustar os valores pagos aos entregadores. Para isso, eles precisam da distribuição da distância média percorrida pelos motoqueiros separada por estado, já que cada região terá seu preço.\n",
    "- Por fim, o CFO precisa de alguns indicadores de receita para apresentar para a diretoria executiva. Dentre esses indicadores, vocês precisarão levantar (1) a receita média e total separada por tipo (Food x Good), (2) A receita média e total por estado. Ou seja, são 4 tabelas ao todo.\n",
    "- Se a empresa tem um gasto fixo de 5 reais por entrega, recebe 15% do valor de cada entrega como receita e, do total do lucro, distribui 20% em forma de bônus para os 2 mil funcionários, quanto cada um irá receber no período contido no dataset?\n"
   ]
  },
  {
   "cell_type": "markdown",
   "id": "9c8ae45a-cc8a-4f4b-b700-b48a53537ec8",
   "metadata": {},
   "source": [
    "## 1.2. Importação das bibliotecas e carregamento dos dados"
   ]
  },
  {
   "cell_type": "code",
   "execution_count": 131,
   "id": "4d89bb76-d75a-46ef-a682-25a55065c9f5",
   "metadata": {},
   "outputs": [],
   "source": [
    "# Bibliotecas para tratar dados\n",
    "import pandas as pd\n",
    "import numpy as np\n",
    "import datetime\n",
    "import os\n",
    "\n",
    "# Bibliotecas visualização\n",
    "import matplotlib.pyplot as plt\n",
    "import seaborn as sns\n",
    "\n",
    "# Configuração para não exibir warnings\n",
    "import warnings\n",
    "\n",
    "warnings.filterwarnings('ignore')\n",
    "\n",
    "# Configuração o estilo dos gráficos para ggplot\n",
    "plt.style.use('ggplot')\n",
    "\n",
    "# Configuração para exibir até 15 linhas de um DataFrame do Pandas\n",
    "pd.set_option('display.max_rows', 20)\n",
    "\n",
    "# Configuração para exibir todas as colunas de um DataFrame do Pandas\n",
    "pd.set_option('display.max_columns', None)"
   ]
  },
  {
   "cell_type": "code",
   "execution_count": 132,
   "id": "965ba170-a532-4859-9cce-69ec75ff96bb",
   "metadata": {},
   "outputs": [],
   "source": [
    "deliveries = pd.read_csv(\"../data/raw/deliveries.csv\", encoding = \"iso-8859-1\")\n",
    "drivers = pd.read_csv(\"../data/raw/drivers.csv\", encoding = \"iso-8859-1\")\n",
    "hubs = pd.read_csv(\"../data/raw/hubs.csv\", encoding = \"iso-8859-1\")\n",
    "orders = pd.read_csv(\"../data/raw/orders.csv\", encoding = \"iso-8859-1\")\n",
    "payments = pd.read_csv(\"../data/raw/payments.csv\", encoding = \"iso-8859-1\")\n",
    "stores = pd.read_csv(\"../data/raw/stores.csv\", encoding = \"iso-8859-1\")"
   ]
  },
  {
   "cell_type": "markdown",
   "id": "f67d78ef-db97-4ca3-9992-179c9c095b55",
   "metadata": {},
   "source": [
    "# 2. Estrutura, limpeza e manipulação dos dados"
   ]
  },
  {
   "cell_type": "markdown",
   "id": "4933d16f-c5fe-4b56-87a5-c3f210ba7d52",
   "metadata": {},
   "source": [
    "## 2.1. Deliveries"
   ]
  },
  {
   "cell_type": "markdown",
   "id": "de3214e2-8af5-4ce1-a213-811000c7d7de",
   "metadata": {},
   "source": [
    "### Estrutura"
   ]
  },
  {
   "cell_type": "code",
   "execution_count": 133,
   "id": "bc2b3fcf-364e-496d-93ec-b7910051e98b",
   "metadata": {},
   "outputs": [
    {
     "data": {
      "text/plain": [
       "(378843, 5)"
      ]
     },
     "execution_count": 133,
     "metadata": {},
     "output_type": "execute_result"
    }
   ],
   "source": [
    "deliveries.shape"
   ]
  },
  {
   "cell_type": "code",
   "execution_count": 134,
   "id": "8a361919-caf7-4882-9e3c-5071f32ac77f",
   "metadata": {},
   "outputs": [
    {
     "data": {
      "text/html": [
       "<div>\n",
       "<style scoped>\n",
       "    .dataframe tbody tr th:only-of-type {\n",
       "        vertical-align: middle;\n",
       "    }\n",
       "\n",
       "    .dataframe tbody tr th {\n",
       "        vertical-align: top;\n",
       "    }\n",
       "\n",
       "    .dataframe thead th {\n",
       "        text-align: right;\n",
       "    }\n",
       "</style>\n",
       "<table border=\"1\" class=\"dataframe\">\n",
       "  <thead>\n",
       "    <tr style=\"text-align: right;\">\n",
       "      <th></th>\n",
       "      <th>delivery_id</th>\n",
       "      <th>delivery_order_id</th>\n",
       "      <th>driver_id</th>\n",
       "      <th>delivery_distance_meters</th>\n",
       "      <th>delivery_status</th>\n",
       "    </tr>\n",
       "  </thead>\n",
       "  <tbody>\n",
       "    <tr>\n",
       "      <th>0</th>\n",
       "      <td>2174658</td>\n",
       "      <td>68413340</td>\n",
       "      <td>8378.0</td>\n",
       "      <td>5199.0</td>\n",
       "      <td>DELIVERED</td>\n",
       "    </tr>\n",
       "    <tr>\n",
       "      <th>1</th>\n",
       "      <td>2174660</td>\n",
       "      <td>68414309</td>\n",
       "      <td>2473.0</td>\n",
       "      <td>410.0</td>\n",
       "      <td>DELIVERED</td>\n",
       "    </tr>\n",
       "    <tr>\n",
       "      <th>2</th>\n",
       "      <td>2174661</td>\n",
       "      <td>68416230</td>\n",
       "      <td>7615.0</td>\n",
       "      <td>3784.0</td>\n",
       "      <td>DELIVERED</td>\n",
       "    </tr>\n",
       "    <tr>\n",
       "      <th>3</th>\n",
       "      <td>2174663</td>\n",
       "      <td>68412721</td>\n",
       "      <td>8378.0</td>\n",
       "      <td>5714.0</td>\n",
       "      <td>DELIVERED</td>\n",
       "    </tr>\n",
       "    <tr>\n",
       "      <th>4</th>\n",
       "      <td>2174675</td>\n",
       "      <td>68414018</td>\n",
       "      <td>10463.0</td>\n",
       "      <td>3746.0</td>\n",
       "      <td>DELIVERED</td>\n",
       "    </tr>\n",
       "  </tbody>\n",
       "</table>\n",
       "</div>"
      ],
      "text/plain": [
       "   delivery_id  delivery_order_id  driver_id  delivery_distance_meters  \\\n",
       "0      2174658           68413340     8378.0                    5199.0   \n",
       "1      2174660           68414309     2473.0                     410.0   \n",
       "2      2174661           68416230     7615.0                    3784.0   \n",
       "3      2174663           68412721     8378.0                    5714.0   \n",
       "4      2174675           68414018    10463.0                    3746.0   \n",
       "\n",
       "  delivery_status  \n",
       "0       DELIVERED  \n",
       "1       DELIVERED  \n",
       "2       DELIVERED  \n",
       "3       DELIVERED  \n",
       "4       DELIVERED  "
      ]
     },
     "execution_count": 134,
     "metadata": {},
     "output_type": "execute_result"
    }
   ],
   "source": [
    "deliveries.head()"
   ]
  },
  {
   "cell_type": "code",
   "execution_count": 135,
   "id": "59deeee1-5026-4fcd-892d-e481962e1f8e",
   "metadata": {},
   "outputs": [
    {
     "name": "stdout",
     "output_type": "stream",
     "text": [
      "<class 'pandas.core.frame.DataFrame'>\n",
      "RangeIndex: 378843 entries, 0 to 378842\n",
      "Data columns (total 5 columns):\n",
      " #   Column                    Non-Null Count   Dtype  \n",
      "---  ------                    --------------   -----  \n",
      " 0   delivery_id               378843 non-null  int64  \n",
      " 1   delivery_order_id         378843 non-null  int64  \n",
      " 2   driver_id                 362957 non-null  float64\n",
      " 3   delivery_distance_meters  378770 non-null  float64\n",
      " 4   delivery_status           378843 non-null  object \n",
      "dtypes: float64(2), int64(2), object(1)\n",
      "memory usage: 14.5+ MB\n"
     ]
    }
   ],
   "source": [
    "deliveries.info()"
   ]
  },
  {
   "cell_type": "markdown",
   "id": "ebb6b4e5-6bcd-4b0b-a159-47bef6611fde",
   "metadata": {},
   "source": [
    "### Limpeza e manipulação"
   ]
  },
  {
   "cell_type": "code",
   "execution_count": 136,
   "id": "00f7bdb8-4457-441b-8f12-d552d5ac439e",
   "metadata": {},
   "outputs": [],
   "source": [
    "# Decidi eliminar entregas com driver_id e delivery_distance_meters nulos\n",
    "\n",
    "deliveries.dropna(subset = ['driver_id', 'delivery_distance_meters'], inplace = True)"
   ]
  },
  {
   "cell_type": "code",
   "execution_count": 137,
   "id": "490d8254-c8c4-4ffc-92b7-a445334eb26c",
   "metadata": {},
   "outputs": [
    {
     "name": "stdout",
     "output_type": "stream",
     "text": [
      "<class 'pandas.core.frame.DataFrame'>\n",
      "Index: 362928 entries, 0 to 378842\n",
      "Data columns (total 5 columns):\n",
      " #   Column                    Non-Null Count   Dtype  \n",
      "---  ------                    --------------   -----  \n",
      " 0   delivery_id               362928 non-null  int64  \n",
      " 1   delivery_order_id         362928 non-null  int64  \n",
      " 2   driver_id                 362928 non-null  float64\n",
      " 3   delivery_distance_meters  362928 non-null  float64\n",
      " 4   delivery_status           362928 non-null  object \n",
      "dtypes: float64(2), int64(2), object(1)\n",
      "memory usage: 16.6+ MB\n"
     ]
    }
   ],
   "source": [
    "deliveries.reset_index()\n",
    "deliveries.info()"
   ]
  },
  {
   "cell_type": "code",
   "execution_count": 138,
   "id": "1d435d7b-7a2e-43fb-b648-eb984091ee40",
   "metadata": {},
   "outputs": [
    {
     "data": {
      "text/plain": [
       "0"
      ]
     },
     "execution_count": 138,
     "metadata": {},
     "output_type": "execute_result"
    }
   ],
   "source": [
    "deliveries.duplicated().sum()"
   ]
  },
  {
   "cell_type": "code",
   "execution_count": 139,
   "id": "23f47368-9a5c-4ecd-bca4-29d1dae4ba97",
   "metadata": {},
   "outputs": [
    {
     "data": {
      "text/html": [
       "<div>\n",
       "<style scoped>\n",
       "    .dataframe tbody tr th:only-of-type {\n",
       "        vertical-align: middle;\n",
       "    }\n",
       "\n",
       "    .dataframe tbody tr th {\n",
       "        vertical-align: top;\n",
       "    }\n",
       "\n",
       "    .dataframe thead th {\n",
       "        text-align: right;\n",
       "    }\n",
       "</style>\n",
       "<table border=\"1\" class=\"dataframe\">\n",
       "  <thead>\n",
       "    <tr style=\"text-align: right;\">\n",
       "      <th></th>\n",
       "      <th>count</th>\n",
       "      <th>mean</th>\n",
       "      <th>std</th>\n",
       "      <th>min</th>\n",
       "      <th>25%</th>\n",
       "      <th>50%</th>\n",
       "      <th>75%</th>\n",
       "      <th>max</th>\n",
       "    </tr>\n",
       "  </thead>\n",
       "  <tbody>\n",
       "    <tr>\n",
       "      <th>delivery_id</th>\n",
       "      <td>362928.0</td>\n",
       "      <td>2.635871e+06</td>\n",
       "      <td>2.650984e+05</td>\n",
       "      <td>2174658.0</td>\n",
       "      <td>2406176.50</td>\n",
       "      <td>2641922.5</td>\n",
       "      <td>2862955.25</td>\n",
       "      <td>3144739.0</td>\n",
       "    </tr>\n",
       "    <tr>\n",
       "      <th>delivery_order_id</th>\n",
       "      <td>362928.0</td>\n",
       "      <td>8.225126e+07</td>\n",
       "      <td>7.009141e+06</td>\n",
       "      <td>68410055.0</td>\n",
       "      <td>76343876.25</td>\n",
       "      <td>83191526.0</td>\n",
       "      <td>87920142.50</td>\n",
       "      <td>93139817.0</td>\n",
       "    </tr>\n",
       "    <tr>\n",
       "      <th>driver_id</th>\n",
       "      <td>362928.0</td>\n",
       "      <td>2.100128e+04</td>\n",
       "      <td>1.552032e+04</td>\n",
       "      <td>133.0</td>\n",
       "      <td>7615.00</td>\n",
       "      <td>18754.0</td>\n",
       "      <td>31048.00</td>\n",
       "      <td>66459.0</td>\n",
       "    </tr>\n",
       "    <tr>\n",
       "      <th>delivery_distance_meters</th>\n",
       "      <td>362928.0</td>\n",
       "      <td>2.818972e+03</td>\n",
       "      <td>1.874356e+04</td>\n",
       "      <td>0.0</td>\n",
       "      <td>1172.00</td>\n",
       "      <td>2044.0</td>\n",
       "      <td>3419.00</td>\n",
       "      <td>7251291.0</td>\n",
       "    </tr>\n",
       "  </tbody>\n",
       "</table>\n",
       "</div>"
      ],
      "text/plain": [
       "                             count          mean           std         min  \\\n",
       "delivery_id               362928.0  2.635871e+06  2.650984e+05   2174658.0   \n",
       "delivery_order_id         362928.0  8.225126e+07  7.009141e+06  68410055.0   \n",
       "driver_id                 362928.0  2.100128e+04  1.552032e+04       133.0   \n",
       "delivery_distance_meters  362928.0  2.818972e+03  1.874356e+04         0.0   \n",
       "\n",
       "                                  25%         50%          75%         max  \n",
       "delivery_id                2406176.50   2641922.5   2862955.25   3144739.0  \n",
       "delivery_order_id         76343876.25  83191526.0  87920142.50  93139817.0  \n",
       "driver_id                     7615.00     18754.0     31048.00     66459.0  \n",
       "delivery_distance_meters      1172.00      2044.0      3419.00   7251291.0  "
      ]
     },
     "execution_count": 139,
     "metadata": {},
     "output_type": "execute_result"
    }
   ],
   "source": [
    "# Existe possibilidade valores extremos nas distâncias percorridas, vou checar com describe\n",
    "\n",
    "deliveries.describe().T.round(4)"
   ]
  },
  {
   "cell_type": "code",
   "execution_count": 140,
   "id": "24e81f10-5940-4b62-ab26-837512eeed14",
   "metadata": {},
   "outputs": [
    {
     "data": {
      "image/png": "[encoded data removed]",
      "text/plain": [
       "<Figure size 800x600 with 1 Axes>"
      ]
     },
     "metadata": {},
     "output_type": "display_data"
    }
   ],
   "source": [
    "# Com um boxplot fica mais nítido a existência desses valores\n",
    "# Portando vou buscar identificar e eliminar outliers\n",
    "\n",
    "fig, ax = plt.subplots(figsize = (8, 6))\n",
    "\n",
    "sns.boxplot(deliveries, x = 'delivery_distance_meters')\n",
    "ax.set_title('Boxplot da Distância Média', fontsize = 15, pad = 12, loc = 'left')\n",
    "ax.set_xlabel('Distância Média em Metros', fontsize = 12)\n",
    "plt.show()"
   ]
  },
  {
   "cell_type": "code",
   "execution_count": 141,
   "id": "ad529e13-f435-41e1-a23e-11e8f7e8b8d6",
   "metadata": {},
   "outputs": [
    {
     "data": {
      "text/html": [
       "<div>\n",
       "<style scoped>\n",
       "    .dataframe tbody tr th:only-of-type {\n",
       "        vertical-align: middle;\n",
       "    }\n",
       "\n",
       "    .dataframe tbody tr th {\n",
       "        vertical-align: top;\n",
       "    }\n",
       "\n",
       "    .dataframe thead th {\n",
       "        text-align: right;\n",
       "    }\n",
       "</style>\n",
       "<table border=\"1\" class=\"dataframe\">\n",
       "  <thead>\n",
       "    <tr style=\"text-align: right;\">\n",
       "      <th></th>\n",
       "      <th>delivery_id</th>\n",
       "      <th>delivery_order_id</th>\n",
       "      <th>driver_id</th>\n",
       "      <th>delivery_distance_meters</th>\n",
       "      <th>delivery_status</th>\n",
       "    </tr>\n",
       "  </thead>\n",
       "  <tbody>\n",
       "    <tr>\n",
       "      <th>784</th>\n",
       "      <td>2176595</td>\n",
       "      <td>68510957</td>\n",
       "      <td>26666.0</td>\n",
       "      <td>7222.0</td>\n",
       "      <td>DELIVERED</td>\n",
       "    </tr>\n",
       "    <tr>\n",
       "      <th>975</th>\n",
       "      <td>2177072</td>\n",
       "      <td>68537759</td>\n",
       "      <td>25651.0</td>\n",
       "      <td>7318.0</td>\n",
       "      <td>DELIVERED</td>\n",
       "    </tr>\n",
       "    <tr>\n",
       "      <th>998</th>\n",
       "      <td>2177145</td>\n",
       "      <td>68538927</td>\n",
       "      <td>655.0</td>\n",
       "      <td>7093.0</td>\n",
       "      <td>DELIVERED</td>\n",
       "    </tr>\n",
       "    <tr>\n",
       "      <th>1003</th>\n",
       "      <td>2177154</td>\n",
       "      <td>68538487</td>\n",
       "      <td>655.0</td>\n",
       "      <td>6999.0</td>\n",
       "      <td>DELIVERED</td>\n",
       "    </tr>\n",
       "    <tr>\n",
       "      <th>1006</th>\n",
       "      <td>2177159</td>\n",
       "      <td>68537700</td>\n",
       "      <td>15898.0</td>\n",
       "      <td>6796.0</td>\n",
       "      <td>DELIVERED</td>\n",
       "    </tr>\n",
       "  </tbody>\n",
       "</table>\n",
       "</div>"
      ],
      "text/plain": [
       "      delivery_id  delivery_order_id  driver_id  delivery_distance_meters  \\\n",
       "784       2176595           68510957    26666.0                    7222.0   \n",
       "975       2177072           68537759    25651.0                    7318.0   \n",
       "998       2177145           68538927      655.0                    7093.0   \n",
       "1003      2177154           68538487      655.0                    6999.0   \n",
       "1006      2177159           68537700    15898.0                    6796.0   \n",
       "\n",
       "     delivery_status  \n",
       "784        DELIVERED  \n",
       "975        DELIVERED  \n",
       "998        DELIVERED  \n",
       "1003       DELIVERED  \n",
       "1006       DELIVERED  "
      ]
     },
     "execution_count": 141,
     "metadata": {},
     "output_type": "execute_result"
    }
   ],
   "source": [
    "# Calculando intervalo interquatil\n",
    "Q1 = deliveries['delivery_distance_meters'].quantile(0.25)\n",
    "Q3 = deliveries['delivery_distance_meters'].quantile(0.75)\n",
    "IQR = Q3 - Q1\n",
    "\n",
    "# Calculando os limites inferior e superior\n",
    "limite_inf = Q1 - 1.5 * IQR\n",
    "limite_sup = Q3 + 1.5 * IQR\n",
    "\n",
    "# Dados extremos\n",
    "outliers = deliveries[(deliveries['delivery_distance_meters'] < limite_inf) | (deliveries['delivery_distance_meters'] > limite_sup)]\n",
    "outliers.head()"
   ]
  },
  {
   "cell_type": "code",
   "execution_count": 142,
   "id": "5d40af86-a6a9-4a90-8338-fe60e0cb1225",
   "metadata": {},
   "outputs": [
    {
     "name": "stdout",
     "output_type": "stream",
     "text": [
      "<class 'pandas.core.frame.DataFrame'>\n",
      "Index: 346632 entries, 0 to 378842\n",
      "Data columns (total 5 columns):\n",
      " #   Column                    Non-Null Count   Dtype  \n",
      "---  ------                    --------------   -----  \n",
      " 0   delivery_id               346632 non-null  int64  \n",
      " 1   delivery_order_id         346632 non-null  int64  \n",
      " 2   driver_id                 346632 non-null  float64\n",
      " 3   delivery_distance_meters  346632 non-null  float64\n",
      " 4   delivery_status           346632 non-null  object \n",
      "dtypes: float64(2), int64(2), object(1)\n",
      "memory usage: 15.9+ MB\n"
     ]
    }
   ],
   "source": [
    "# Remoção dos valores extremos\n",
    "\n",
    "deliveries_clean = deliveries[(deliveries['delivery_distance_meters'] >= limite_inf) & (deliveries['delivery_distance_meters'] <= limite_sup)].copy()\n",
    "deliveries_clean.reset_index()\n",
    "deliveries_clean.info()"
   ]
  },
  {
   "cell_type": "code",
   "execution_count": 143,
   "id": "e1dca304-5adc-49cc-9b06-516433accbdc",
   "metadata": {},
   "outputs": [
    {
     "data": {
      "image/png": "[encoded data removed]",
      "text/plain": [
       "<Figure size 800x600 with 1 Axes>"
      ]
     },
     "metadata": {},
     "output_type": "display_data"
    }
   ],
   "source": [
    "fig, ax = plt.subplots(figsize = (8, 6))\n",
    "\n",
    "sns.boxplot(deliveries_clean, x = 'delivery_distance_meters')\n",
    "ax.set_title('Boxplot da Distância Média', fontsize = 15, pad = 12, loc = 'left')\n",
    "ax.set_xlabel('Distância Média em Metros', fontsize = 12)\n",
    "plt.show()"
   ]
  },
  {
   "cell_type": "code",
   "execution_count": 144,
   "id": "53dcba4a-3d0b-4ec4-ad72-b589336a59d7",
   "metadata": {},
   "outputs": [
    {
     "data": {
      "text/plain": [
       "array(['DELIVERED', 'DELIVERING'], dtype=object)"
      ]
     },
     "execution_count": 144,
     "metadata": {},
     "output_type": "execute_result"
    }
   ],
   "source": [
    "deliveries_clean['delivery_status'].unique()"
   ]
  },
  {
   "cell_type": "code",
   "execution_count": 145,
   "id": "cd5a9b1f-9f44-4ccb-9ea1-47f42339b803",
   "metadata": {},
   "outputs": [
    {
     "data": {
      "text/plain": [
       "delivery_status\n",
       "DELIVERED     346460\n",
       "DELIVERING       172\n",
       "Name: count, dtype: int64"
      ]
     },
     "execution_count": 145,
     "metadata": {},
     "output_type": "execute_result"
    }
   ],
   "source": [
    "deliveries_clean['delivery_status'].value_counts()"
   ]
  },
  {
   "cell_type": "code",
   "execution_count": 146,
   "id": "0189ed2f-a5bd-4204-aa28-59d0fab24557",
   "metadata": {},
   "outputs": [
    {
     "data": {
      "text/html": [
       "<div>\n",
       "<style scoped>\n",
       "    .dataframe tbody tr th:only-of-type {\n",
       "        vertical-align: middle;\n",
       "    }\n",
       "\n",
       "    .dataframe tbody tr th {\n",
       "        vertical-align: top;\n",
       "    }\n",
       "\n",
       "    .dataframe thead th {\n",
       "        text-align: right;\n",
       "    }\n",
       "</style>\n",
       "<table border=\"1\" class=\"dataframe\">\n",
       "  <thead>\n",
       "    <tr style=\"text-align: right;\">\n",
       "      <th></th>\n",
       "      <th>delivery_id</th>\n",
       "      <th>delivery_order_id</th>\n",
       "      <th>driver_id</th>\n",
       "      <th>delivery_distance_meters</th>\n",
       "      <th>delivery_status</th>\n",
       "    </tr>\n",
       "  </thead>\n",
       "  <tbody>\n",
       "    <tr>\n",
       "      <th>0</th>\n",
       "      <td>2174658</td>\n",
       "      <td>68413340</td>\n",
       "      <td>8378.0</td>\n",
       "      <td>5199.0</td>\n",
       "      <td>DELIVERED</td>\n",
       "    </tr>\n",
       "    <tr>\n",
       "      <th>1</th>\n",
       "      <td>2174660</td>\n",
       "      <td>68414309</td>\n",
       "      <td>2473.0</td>\n",
       "      <td>410.0</td>\n",
       "      <td>DELIVERED</td>\n",
       "    </tr>\n",
       "    <tr>\n",
       "      <th>2</th>\n",
       "      <td>2174661</td>\n",
       "      <td>68416230</td>\n",
       "      <td>7615.0</td>\n",
       "      <td>3784.0</td>\n",
       "      <td>DELIVERED</td>\n",
       "    </tr>\n",
       "    <tr>\n",
       "      <th>3</th>\n",
       "      <td>2174663</td>\n",
       "      <td>68412721</td>\n",
       "      <td>8378.0</td>\n",
       "      <td>5714.0</td>\n",
       "      <td>DELIVERED</td>\n",
       "    </tr>\n",
       "    <tr>\n",
       "      <th>4</th>\n",
       "      <td>2174675</td>\n",
       "      <td>68414018</td>\n",
       "      <td>10463.0</td>\n",
       "      <td>3746.0</td>\n",
       "      <td>DELIVERED</td>\n",
       "    </tr>\n",
       "  </tbody>\n",
       "</table>\n",
       "</div>"
      ],
      "text/plain": [
       "   delivery_id  delivery_order_id  driver_id  delivery_distance_meters  \\\n",
       "0      2174658           68413340     8378.0                    5199.0   \n",
       "1      2174660           68414309     2473.0                     410.0   \n",
       "2      2174661           68416230     7615.0                    3784.0   \n",
       "3      2174663           68412721     8378.0                    5714.0   \n",
       "4      2174675           68414018    10463.0                    3746.0   \n",
       "\n",
       "  delivery_status  \n",
       "0       DELIVERED  \n",
       "1       DELIVERED  \n",
       "2       DELIVERED  \n",
       "3       DELIVERED  \n",
       "4       DELIVERED  "
      ]
     },
     "execution_count": 146,
     "metadata": {},
     "output_type": "execute_result"
    }
   ],
   "source": [
    "# Vou manter apenas as entregas finalizadas\n",
    "\n",
    "deliveries_clean = deliveries_clean[deliveries_clean['delivery_status'] == \"DELIVERED\"].copy()\n",
    "deliveries_clean.head()"
   ]
  },
  {
   "cell_type": "markdown",
   "id": "67e0af18-424f-4a30-b5db-04bfcd0bdca5",
   "metadata": {},
   "source": [
    "## 2.2. Drivers"
   ]
  },
  {
   "cell_type": "markdown",
   "id": "9ae3d66f-e40b-4ce0-906f-dcf4b36ca269",
   "metadata": {},
   "source": [
    "### Estrutura"
   ]
  },
  {
   "cell_type": "code",
   "execution_count": 147,
   "id": "b377bb24-ac0a-4f8c-9b9a-319ed424dd74",
   "metadata": {},
   "outputs": [
    {
     "data": {
      "text/plain": [
       "(4824, 3)"
      ]
     },
     "execution_count": 147,
     "metadata": {},
     "output_type": "execute_result"
    }
   ],
   "source": [
    "drivers.shape"
   ]
  },
  {
   "cell_type": "code",
   "execution_count": 148,
   "id": "7e478234-1e84-4a18-97f6-415117d8d479",
   "metadata": {},
   "outputs": [
    {
     "data": {
      "text/html": [
       "<div>\n",
       "<style scoped>\n",
       "    .dataframe tbody tr th:only-of-type {\n",
       "        vertical-align: middle;\n",
       "    }\n",
       "\n",
       "    .dataframe tbody tr th {\n",
       "        vertical-align: top;\n",
       "    }\n",
       "\n",
       "    .dataframe thead th {\n",
       "        text-align: right;\n",
       "    }\n",
       "</style>\n",
       "<table border=\"1\" class=\"dataframe\">\n",
       "  <thead>\n",
       "    <tr style=\"text-align: right;\">\n",
       "      <th></th>\n",
       "      <th>driver_id</th>\n",
       "      <th>driver_modal</th>\n",
       "      <th>driver_type</th>\n",
       "    </tr>\n",
       "  </thead>\n",
       "  <tbody>\n",
       "    <tr>\n",
       "      <th>0</th>\n",
       "      <td>133</td>\n",
       "      <td>MOTOBOY</td>\n",
       "      <td>LOGISTIC OPERATOR</td>\n",
       "    </tr>\n",
       "    <tr>\n",
       "      <th>1</th>\n",
       "      <td>138</td>\n",
       "      <td>MOTOBOY</td>\n",
       "      <td>FREELANCE</td>\n",
       "    </tr>\n",
       "    <tr>\n",
       "      <th>2</th>\n",
       "      <td>140</td>\n",
       "      <td>MOTOBOY</td>\n",
       "      <td>FREELANCE</td>\n",
       "    </tr>\n",
       "    <tr>\n",
       "      <th>3</th>\n",
       "      <td>143</td>\n",
       "      <td>BIKER</td>\n",
       "      <td>FREELANCE</td>\n",
       "    </tr>\n",
       "    <tr>\n",
       "      <th>4</th>\n",
       "      <td>148</td>\n",
       "      <td>MOTOBOY</td>\n",
       "      <td>FREELANCE</td>\n",
       "    </tr>\n",
       "  </tbody>\n",
       "</table>\n",
       "</div>"
      ],
      "text/plain": [
       "   driver_id driver_modal        driver_type\n",
       "0        133      MOTOBOY  LOGISTIC OPERATOR\n",
       "1        138      MOTOBOY          FREELANCE\n",
       "2        140      MOTOBOY          FREELANCE\n",
       "3        143        BIKER          FREELANCE\n",
       "4        148      MOTOBOY          FREELANCE"
      ]
     },
     "execution_count": 148,
     "metadata": {},
     "output_type": "execute_result"
    }
   ],
   "source": [
    "drivers.head()"
   ]
  },
  {
   "cell_type": "code",
   "execution_count": 149,
   "id": "acf727ea-b0cd-4bb9-a20c-f3c63fca66b6",
   "metadata": {},
   "outputs": [
    {
     "name": "stdout",
     "output_type": "stream",
     "text": [
      "<class 'pandas.core.frame.DataFrame'>\n",
      "RangeIndex: 4824 entries, 0 to 4823\n",
      "Data columns (total 3 columns):\n",
      " #   Column        Non-Null Count  Dtype \n",
      "---  ------        --------------  ----- \n",
      " 0   driver_id     4824 non-null   int64 \n",
      " 1   driver_modal  4824 non-null   object\n",
      " 2   driver_type   4824 non-null   object\n",
      "dtypes: int64(1), object(2)\n",
      "memory usage: 113.2+ KB\n"
     ]
    }
   ],
   "source": [
    "drivers.info()"
   ]
  },
  {
   "cell_type": "markdown",
   "id": "403e3f95-c010-42bc-b880-2a422afeb076",
   "metadata": {},
   "source": [
    "### Limpeza e manipulação"
   ]
  },
  {
   "cell_type": "code",
   "execution_count": 150,
   "id": "b9e283e1-17c0-4ccf-bece-61d565932469",
   "metadata": {},
   "outputs": [
    {
     "data": {
      "text/html": [
       "<div>\n",
       "<style scoped>\n",
       "    .dataframe tbody tr th:only-of-type {\n",
       "        vertical-align: middle;\n",
       "    }\n",
       "\n",
       "    .dataframe tbody tr th {\n",
       "        vertical-align: top;\n",
       "    }\n",
       "\n",
       "    .dataframe thead th {\n",
       "        text-align: right;\n",
       "    }\n",
       "</style>\n",
       "<table border=\"1\" class=\"dataframe\">\n",
       "  <thead>\n",
       "    <tr style=\"text-align: right;\">\n",
       "      <th></th>\n",
       "      <th>driver_id</th>\n",
       "      <th>driver_modal</th>\n",
       "    </tr>\n",
       "  </thead>\n",
       "  <tbody>\n",
       "    <tr>\n",
       "      <th>0</th>\n",
       "      <td>133</td>\n",
       "      <td>MOTOBOY</td>\n",
       "    </tr>\n",
       "    <tr>\n",
       "      <th>1</th>\n",
       "      <td>138</td>\n",
       "      <td>MOTOBOY</td>\n",
       "    </tr>\n",
       "    <tr>\n",
       "      <th>2</th>\n",
       "      <td>140</td>\n",
       "      <td>MOTOBOY</td>\n",
       "    </tr>\n",
       "    <tr>\n",
       "      <th>3</th>\n",
       "      <td>143</td>\n",
       "      <td>BIKER</td>\n",
       "    </tr>\n",
       "    <tr>\n",
       "      <th>4</th>\n",
       "      <td>148</td>\n",
       "      <td>MOTOBOY</td>\n",
       "    </tr>\n",
       "  </tbody>\n",
       "</table>\n",
       "</div>"
      ],
      "text/plain": [
       "   driver_id driver_modal\n",
       "0        133      MOTOBOY\n",
       "1        138      MOTOBOY\n",
       "2        140      MOTOBOY\n",
       "3        143        BIKER\n",
       "4        148      MOTOBOY"
      ]
     },
     "execution_count": 150,
     "metadata": {},
     "output_type": "execute_result"
    }
   ],
   "source": [
    "# driver_type não será útil para o nosso problema, então vou remover esta coluna\n",
    "\n",
    "drivers = drivers[['driver_id', 'driver_modal']]\n",
    "drivers.head()"
   ]
  },
  {
   "cell_type": "markdown",
   "id": "b53175f4-c190-41c6-ac05-f8616d01dcca",
   "metadata": {},
   "source": [
    "Não serão necessários outros tratamentos neste dataframe"
   ]
  },
  {
   "cell_type": "markdown",
   "id": "8307999c-0a70-4f06-bb5f-7373c49b88b6",
   "metadata": {},
   "source": [
    "## 2.3. Hubs"
   ]
  },
  {
   "cell_type": "markdown",
   "id": "77f8ed56-7fb8-4eda-a065-bbb750b51d49",
   "metadata": {},
   "source": [
    "### Estrutura"
   ]
  },
  {
   "cell_type": "code",
   "execution_count": 151,
   "id": "d3706662-7ec4-4569-83a4-6528d0ee4d6a",
   "metadata": {},
   "outputs": [
    {
     "data": {
      "text/plain": [
       "(32, 6)"
      ]
     },
     "execution_count": 151,
     "metadata": {},
     "output_type": "execute_result"
    }
   ],
   "source": [
    "hubs.shape"
   ]
  },
  {
   "cell_type": "code",
   "execution_count": 152,
   "id": "6f84f016-9cc4-4a17-936b-eecdc55b700c",
   "metadata": {},
   "outputs": [
    {
     "data": {
      "text/html": [
       "<div>\n",
       "<style scoped>\n",
       "    .dataframe tbody tr th:only-of-type {\n",
       "        vertical-align: middle;\n",
       "    }\n",
       "\n",
       "    .dataframe tbody tr th {\n",
       "        vertical-align: top;\n",
       "    }\n",
       "\n",
       "    .dataframe thead th {\n",
       "        text-align: right;\n",
       "    }\n",
       "</style>\n",
       "<table border=\"1\" class=\"dataframe\">\n",
       "  <thead>\n",
       "    <tr style=\"text-align: right;\">\n",
       "      <th></th>\n",
       "      <th>hub_id</th>\n",
       "      <th>hub_name</th>\n",
       "      <th>hub_city</th>\n",
       "      <th>hub_state</th>\n",
       "      <th>hub_latitude</th>\n",
       "      <th>hub_longitude</th>\n",
       "    </tr>\n",
       "  </thead>\n",
       "  <tbody>\n",
       "    <tr>\n",
       "      <th>0</th>\n",
       "      <td>2</td>\n",
       "      <td>BLUE SHOPPING</td>\n",
       "      <td>PORTO ALEGRE</td>\n",
       "      <td>RS</td>\n",
       "      <td>-30.047415</td>\n",
       "      <td>-51.213510</td>\n",
       "    </tr>\n",
       "    <tr>\n",
       "      <th>1</th>\n",
       "      <td>3</td>\n",
       "      <td>GREEN SHOPPING</td>\n",
       "      <td>PORTO ALEGRE</td>\n",
       "      <td>RS</td>\n",
       "      <td>-30.037415</td>\n",
       "      <td>-51.203520</td>\n",
       "    </tr>\n",
       "    <tr>\n",
       "      <th>2</th>\n",
       "      <td>4</td>\n",
       "      <td>RED SHOPPING</td>\n",
       "      <td>PORTO ALEGRE</td>\n",
       "      <td>RS</td>\n",
       "      <td>-30.021948</td>\n",
       "      <td>-51.208382</td>\n",
       "    </tr>\n",
       "    <tr>\n",
       "      <th>3</th>\n",
       "      <td>5</td>\n",
       "      <td>FUNK SHOPPING</td>\n",
       "      <td>RIO DE JANEIRO</td>\n",
       "      <td>RJ</td>\n",
       "      <td>-23.000750</td>\n",
       "      <td>-43.318282</td>\n",
       "    </tr>\n",
       "    <tr>\n",
       "      <th>4</th>\n",
       "      <td>8</td>\n",
       "      <td>GOLDEN SHOPPING</td>\n",
       "      <td>RIO DE JANEIRO</td>\n",
       "      <td>RJ</td>\n",
       "      <td>-22.921475</td>\n",
       "      <td>-43.234774</td>\n",
       "    </tr>\n",
       "  </tbody>\n",
       "</table>\n",
       "</div>"
      ],
      "text/plain": [
       "   hub_id         hub_name        hub_city hub_state  hub_latitude  \\\n",
       "0       2    BLUE SHOPPING    PORTO ALEGRE        RS    -30.047415   \n",
       "1       3   GREEN SHOPPING    PORTO ALEGRE        RS    -30.037415   \n",
       "2       4     RED SHOPPING    PORTO ALEGRE        RS    -30.021948   \n",
       "3       5    FUNK SHOPPING  RIO DE JANEIRO        RJ    -23.000750   \n",
       "4       8  GOLDEN SHOPPING  RIO DE JANEIRO        RJ    -22.921475   \n",
       "\n",
       "   hub_longitude  \n",
       "0     -51.213510  \n",
       "1     -51.203520  \n",
       "2     -51.208382  \n",
       "3     -43.318282  \n",
       "4     -43.234774  "
      ]
     },
     "execution_count": 152,
     "metadata": {},
     "output_type": "execute_result"
    }
   ],
   "source": [
    "hubs.head()"
   ]
  },
  {
   "cell_type": "code",
   "execution_count": 153,
   "id": "f13a5a33-f5c2-4247-9988-af337e485d94",
   "metadata": {},
   "outputs": [
    {
     "name": "stdout",
     "output_type": "stream",
     "text": [
      "<class 'pandas.core.frame.DataFrame'>\n",
      "RangeIndex: 32 entries, 0 to 31\n",
      "Data columns (total 6 columns):\n",
      " #   Column         Non-Null Count  Dtype  \n",
      "---  ------         --------------  -----  \n",
      " 0   hub_id         32 non-null     int64  \n",
      " 1   hub_name       32 non-null     object \n",
      " 2   hub_city       32 non-null     object \n",
      " 3   hub_state      32 non-null     object \n",
      " 4   hub_latitude   32 non-null     float64\n",
      " 5   hub_longitude  32 non-null     float64\n",
      "dtypes: float64(2), int64(1), object(3)\n",
      "memory usage: 1.6+ KB\n"
     ]
    }
   ],
   "source": [
    "hubs.info()"
   ]
  },
  {
   "cell_type": "markdown",
   "id": "c69d4e64-70d7-46ad-ad1a-409473f3b347",
   "metadata": {},
   "source": [
    "### Limpeza e manipulação"
   ]
  },
  {
   "cell_type": "code",
   "execution_count": 154,
   "id": "6b2658ca-c179-4de9-8fa9-49b391e49576",
   "metadata": {},
   "outputs": [
    {
     "data": {
      "text/html": [
       "<div>\n",
       "<style scoped>\n",
       "    .dataframe tbody tr th:only-of-type {\n",
       "        vertical-align: middle;\n",
       "    }\n",
       "\n",
       "    .dataframe tbody tr th {\n",
       "        vertical-align: top;\n",
       "    }\n",
       "\n",
       "    .dataframe thead th {\n",
       "        text-align: right;\n",
       "    }\n",
       "</style>\n",
       "<table border=\"1\" class=\"dataframe\">\n",
       "  <thead>\n",
       "    <tr style=\"text-align: right;\">\n",
       "      <th></th>\n",
       "      <th>hub_id</th>\n",
       "      <th>hub_state</th>\n",
       "    </tr>\n",
       "  </thead>\n",
       "  <tbody>\n",
       "    <tr>\n",
       "      <th>0</th>\n",
       "      <td>2</td>\n",
       "      <td>RS</td>\n",
       "    </tr>\n",
       "    <tr>\n",
       "      <th>1</th>\n",
       "      <td>3</td>\n",
       "      <td>RS</td>\n",
       "    </tr>\n",
       "    <tr>\n",
       "      <th>2</th>\n",
       "      <td>4</td>\n",
       "      <td>RS</td>\n",
       "    </tr>\n",
       "    <tr>\n",
       "      <th>3</th>\n",
       "      <td>5</td>\n",
       "      <td>RJ</td>\n",
       "    </tr>\n",
       "    <tr>\n",
       "      <th>4</th>\n",
       "      <td>8</td>\n",
       "      <td>RJ</td>\n",
       "    </tr>\n",
       "  </tbody>\n",
       "</table>\n",
       "</div>"
      ],
      "text/plain": [
       "   hub_id hub_state\n",
       "0       2        RS\n",
       "1       3        RS\n",
       "2       4        RS\n",
       "3       5        RJ\n",
       "4       8        RJ"
      ]
     },
     "execution_count": 154,
     "metadata": {},
     "output_type": "execute_result"
    }
   ],
   "source": [
    "# Em hubs só será utilizado o hub_id e hub_state\n",
    "\n",
    "hubs = hubs[['hub_id', 'hub_state']]\n",
    "hubs.head()"
   ]
  },
  {
   "cell_type": "markdown",
   "id": "4d2024d8-fbe8-4637-918e-9a9856088a55",
   "metadata": {},
   "source": [
    "## 2.4. Orders"
   ]
  },
  {
   "cell_type": "markdown",
   "id": "354b83a9-d717-42e2-b1c9-fe34a222ef5c",
   "metadata": {},
   "source": [
    "### Estrutura"
   ]
  },
  {
   "cell_type": "code",
   "execution_count": 155,
   "id": "31350651-5231-43cb-9d00-35b10fa821cc",
   "metadata": {},
   "outputs": [
    {
     "data": {
      "text/plain": [
       "(368999, 29)"
      ]
     },
     "execution_count": 155,
     "metadata": {},
     "output_type": "execute_result"
    }
   ],
   "source": [
    "orders.shape"
   ]
  },
  {
   "cell_type": "code",
   "execution_count": 156,
   "id": "cfe03a80-0279-40ae-96b0-446facf26ea5",
   "metadata": {},
   "outputs": [
    {
     "data": {
      "text/html": [
       "<div>\n",
       "<style scoped>\n",
       "    .dataframe tbody tr th:only-of-type {\n",
       "        vertical-align: middle;\n",
       "    }\n",
       "\n",
       "    .dataframe tbody tr th {\n",
       "        vertical-align: top;\n",
       "    }\n",
       "\n",
       "    .dataframe thead th {\n",
       "        text-align: right;\n",
       "    }\n",
       "</style>\n",
       "<table border=\"1\" class=\"dataframe\">\n",
       "  <thead>\n",
       "    <tr style=\"text-align: right;\">\n",
       "      <th></th>\n",
       "      <th>order_id</th>\n",
       "      <th>store_id</th>\n",
       "      <th>channel_id</th>\n",
       "      <th>payment_order_id</th>\n",
       "      <th>delivery_order_id</th>\n",
       "      <th>order_status</th>\n",
       "      <th>order_amount</th>\n",
       "      <th>order_delivery_fee</th>\n",
       "      <th>order_delivery_cost</th>\n",
       "      <th>order_created_hour</th>\n",
       "      <th>order_created_minute</th>\n",
       "      <th>order_created_day</th>\n",
       "      <th>order_created_month</th>\n",
       "      <th>order_created_year</th>\n",
       "      <th>order_moment_created</th>\n",
       "      <th>order_moment_accepted</th>\n",
       "      <th>order_moment_ready</th>\n",
       "      <th>order_moment_collected</th>\n",
       "      <th>order_moment_in_expedition</th>\n",
       "      <th>order_moment_delivering</th>\n",
       "      <th>order_moment_delivered</th>\n",
       "      <th>order_moment_finished</th>\n",
       "      <th>order_metric_collected_time</th>\n",
       "      <th>order_metric_paused_time</th>\n",
       "      <th>order_metric_production_time</th>\n",
       "      <th>order_metric_walking_time</th>\n",
       "      <th>order_metric_expediton_speed_time</th>\n",
       "      <th>order_metric_transit_time</th>\n",
       "      <th>order_metric_cycle_time</th>\n",
       "    </tr>\n",
       "  </thead>\n",
       "  <tbody>\n",
       "    <tr>\n",
       "      <th>0</th>\n",
       "      <td>68405119</td>\n",
       "      <td>3512</td>\n",
       "      <td>5</td>\n",
       "      <td>68405119</td>\n",
       "      <td>68405119</td>\n",
       "      <td>CANCELED</td>\n",
       "      <td>62.7</td>\n",
       "      <td>0.0</td>\n",
       "      <td>NaN</td>\n",
       "      <td>0</td>\n",
       "      <td>1</td>\n",
       "      <td>1</td>\n",
       "      <td>1</td>\n",
       "      <td>2021</td>\n",
       "      <td>1/1/2021 12:01:36 AM</td>\n",
       "      <td>NaN</td>\n",
       "      <td>NaN</td>\n",
       "      <td>NaN</td>\n",
       "      <td>NaN</td>\n",
       "      <td>NaN</td>\n",
       "      <td>NaN</td>\n",
       "      <td>NaN</td>\n",
       "      <td>NaN</td>\n",
       "      <td>NaN</td>\n",
       "      <td>NaN</td>\n",
       "      <td>NaN</td>\n",
       "      <td>NaN</td>\n",
       "      <td>NaN</td>\n",
       "      <td>NaN</td>\n",
       "    </tr>\n",
       "    <tr>\n",
       "      <th>1</th>\n",
       "      <td>68405123</td>\n",
       "      <td>3512</td>\n",
       "      <td>5</td>\n",
       "      <td>68405123</td>\n",
       "      <td>68405123</td>\n",
       "      <td>CANCELED</td>\n",
       "      <td>62.7</td>\n",
       "      <td>0.0</td>\n",
       "      <td>NaN</td>\n",
       "      <td>0</td>\n",
       "      <td>4</td>\n",
       "      <td>1</td>\n",
       "      <td>1</td>\n",
       "      <td>2021</td>\n",
       "      <td>1/1/2021 12:04:26 AM</td>\n",
       "      <td>NaN</td>\n",
       "      <td>NaN</td>\n",
       "      <td>NaN</td>\n",
       "      <td>NaN</td>\n",
       "      <td>NaN</td>\n",
       "      <td>NaN</td>\n",
       "      <td>NaN</td>\n",
       "      <td>NaN</td>\n",
       "      <td>NaN</td>\n",
       "      <td>NaN</td>\n",
       "      <td>NaN</td>\n",
       "      <td>NaN</td>\n",
       "      <td>NaN</td>\n",
       "      <td>NaN</td>\n",
       "    </tr>\n",
       "    <tr>\n",
       "      <th>2</th>\n",
       "      <td>68405206</td>\n",
       "      <td>3512</td>\n",
       "      <td>5</td>\n",
       "      <td>68405206</td>\n",
       "      <td>68405206</td>\n",
       "      <td>CANCELED</td>\n",
       "      <td>115.5</td>\n",
       "      <td>0.0</td>\n",
       "      <td>NaN</td>\n",
       "      <td>0</td>\n",
       "      <td>13</td>\n",
       "      <td>1</td>\n",
       "      <td>1</td>\n",
       "      <td>2021</td>\n",
       "      <td>1/1/2021 12:13:07 AM</td>\n",
       "      <td>NaN</td>\n",
       "      <td>NaN</td>\n",
       "      <td>NaN</td>\n",
       "      <td>NaN</td>\n",
       "      <td>NaN</td>\n",
       "      <td>NaN</td>\n",
       "      <td>NaN</td>\n",
       "      <td>NaN</td>\n",
       "      <td>NaN</td>\n",
       "      <td>NaN</td>\n",
       "      <td>NaN</td>\n",
       "      <td>NaN</td>\n",
       "      <td>NaN</td>\n",
       "      <td>NaN</td>\n",
       "    </tr>\n",
       "    <tr>\n",
       "      <th>3</th>\n",
       "      <td>68405465</td>\n",
       "      <td>3401</td>\n",
       "      <td>5</td>\n",
       "      <td>68405465</td>\n",
       "      <td>68405465</td>\n",
       "      <td>CANCELED</td>\n",
       "      <td>55.9</td>\n",
       "      <td>0.0</td>\n",
       "      <td>NaN</td>\n",
       "      <td>0</td>\n",
       "      <td>19</td>\n",
       "      <td>1</td>\n",
       "      <td>1</td>\n",
       "      <td>2021</td>\n",
       "      <td>1/1/2021 12:19:15 AM</td>\n",
       "      <td>NaN</td>\n",
       "      <td>NaN</td>\n",
       "      <td>NaN</td>\n",
       "      <td>NaN</td>\n",
       "      <td>NaN</td>\n",
       "      <td>NaN</td>\n",
       "      <td>NaN</td>\n",
       "      <td>NaN</td>\n",
       "      <td>NaN</td>\n",
       "      <td>NaN</td>\n",
       "      <td>NaN</td>\n",
       "      <td>NaN</td>\n",
       "      <td>NaN</td>\n",
       "      <td>NaN</td>\n",
       "    </tr>\n",
       "    <tr>\n",
       "      <th>4</th>\n",
       "      <td>68406064</td>\n",
       "      <td>3401</td>\n",
       "      <td>5</td>\n",
       "      <td>68406064</td>\n",
       "      <td>68406064</td>\n",
       "      <td>CANCELED</td>\n",
       "      <td>37.9</td>\n",
       "      <td>0.0</td>\n",
       "      <td>NaN</td>\n",
       "      <td>0</td>\n",
       "      <td>26</td>\n",
       "      <td>1</td>\n",
       "      <td>1</td>\n",
       "      <td>2021</td>\n",
       "      <td>1/1/2021 12:26:25 AM</td>\n",
       "      <td>NaN</td>\n",
       "      <td>NaN</td>\n",
       "      <td>NaN</td>\n",
       "      <td>NaN</td>\n",
       "      <td>NaN</td>\n",
       "      <td>NaN</td>\n",
       "      <td>NaN</td>\n",
       "      <td>NaN</td>\n",
       "      <td>NaN</td>\n",
       "      <td>NaN</td>\n",
       "      <td>NaN</td>\n",
       "      <td>NaN</td>\n",
       "      <td>NaN</td>\n",
       "      <td>NaN</td>\n",
       "    </tr>\n",
       "  </tbody>\n",
       "</table>\n",
       "</div>"
      ],
      "text/plain": [
       "   order_id  store_id  channel_id  payment_order_id  delivery_order_id  \\\n",
       "0  68405119      3512           5          68405119           68405119   \n",
       "1  68405123      3512           5          68405123           68405123   \n",
       "2  68405206      3512           5          68405206           68405206   \n",
       "3  68405465      3401           5          68405465           68405465   \n",
       "4  68406064      3401           5          68406064           68406064   \n",
       "\n",
       "  order_status  order_amount  order_delivery_fee  order_delivery_cost  \\\n",
       "0     CANCELED          62.7                 0.0                  NaN   \n",
       "1     CANCELED          62.7                 0.0                  NaN   \n",
       "2     CANCELED         115.5                 0.0                  NaN   \n",
       "3     CANCELED          55.9                 0.0                  NaN   \n",
       "4     CANCELED          37.9                 0.0                  NaN   \n",
       "\n",
       "   order_created_hour  order_created_minute  order_created_day  \\\n",
       "0                   0                     1                  1   \n",
       "1                   0                     4                  1   \n",
       "2                   0                    13                  1   \n",
       "3                   0                    19                  1   \n",
       "4                   0                    26                  1   \n",
       "\n",
       "   order_created_month  order_created_year  order_moment_created  \\\n",
       "0                    1                2021  1/1/2021 12:01:36 AM   \n",
       "1                    1                2021  1/1/2021 12:04:26 AM   \n",
       "2                    1                2021  1/1/2021 12:13:07 AM   \n",
       "3                    1                2021  1/1/2021 12:19:15 AM   \n",
       "4                    1                2021  1/1/2021 12:26:25 AM   \n",
       "\n",
       "  order_moment_accepted order_moment_ready order_moment_collected  \\\n",
       "0                   NaN                NaN                    NaN   \n",
       "1                   NaN                NaN                    NaN   \n",
       "2                   NaN                NaN                    NaN   \n",
       "3                   NaN                NaN                    NaN   \n",
       "4                   NaN                NaN                    NaN   \n",
       "\n",
       "  order_moment_in_expedition order_moment_delivering order_moment_delivered  \\\n",
       "0                        NaN                     NaN                    NaN   \n",
       "1                        NaN                     NaN                    NaN   \n",
       "2                        NaN                     NaN                    NaN   \n",
       "3                        NaN                     NaN                    NaN   \n",
       "4                        NaN                     NaN                    NaN   \n",
       "\n",
       "  order_moment_finished  order_metric_collected_time  \\\n",
       "0                   NaN                          NaN   \n",
       "1                   NaN                          NaN   \n",
       "2                   NaN                          NaN   \n",
       "3                   NaN                          NaN   \n",
       "4                   NaN                          NaN   \n",
       "\n",
       "   order_metric_paused_time  order_metric_production_time  \\\n",
       "0                       NaN                           NaN   \n",
       "1                       NaN                           NaN   \n",
       "2                       NaN                           NaN   \n",
       "3                       NaN                           NaN   \n",
       "4                       NaN                           NaN   \n",
       "\n",
       "   order_metric_walking_time  order_metric_expediton_speed_time  \\\n",
       "0                        NaN                                NaN   \n",
       "1                        NaN                                NaN   \n",
       "2                        NaN                                NaN   \n",
       "3                        NaN                                NaN   \n",
       "4                        NaN                                NaN   \n",
       "\n",
       "   order_metric_transit_time  order_metric_cycle_time  \n",
       "0                        NaN                      NaN  \n",
       "1                        NaN                      NaN  \n",
       "2                        NaN                      NaN  \n",
       "3                        NaN                      NaN  \n",
       "4                        NaN                      NaN  "
      ]
     },
     "execution_count": 156,
     "metadata": {},
     "output_type": "execute_result"
    }
   ],
   "source": [
    "orders.head()"
   ]
  },
  {
   "cell_type": "code",
   "execution_count": 157,
   "id": "a1972cd7-8290-4222-91de-98d94f4166a0",
   "metadata": {},
   "outputs": [
    {
     "name": "stdout",
     "output_type": "stream",
     "text": [
      "<class 'pandas.core.frame.DataFrame'>\n",
      "RangeIndex: 368999 entries, 0 to 368998\n",
      "Data columns (total 29 columns):\n",
      " #   Column                             Non-Null Count   Dtype  \n",
      "---  ------                             --------------   -----  \n",
      " 0   order_id                           368999 non-null  int64  \n",
      " 1   store_id                           368999 non-null  int64  \n",
      " 2   channel_id                         368999 non-null  int64  \n",
      " 3   payment_order_id                   368999 non-null  int64  \n",
      " 4   delivery_order_id                  368999 non-null  int64  \n",
      " 5   order_status                       368999 non-null  object \n",
      " 6   order_amount                       368999 non-null  float64\n",
      " 7   order_delivery_fee                 368999 non-null  float64\n",
      " 8   order_delivery_cost                361794 non-null  float64\n",
      " 9   order_created_hour                 368999 non-null  int64  \n",
      " 10  order_created_minute               368999 non-null  int64  \n",
      " 11  order_created_day                  368999 non-null  int64  \n",
      " 12  order_created_month                368999 non-null  int64  \n",
      " 13  order_created_year                 368999 non-null  int64  \n",
      " 14  order_moment_created               368999 non-null  object \n",
      " 15  order_moment_accepted              359538 non-null  object \n",
      " 16  order_moment_ready                 343893 non-null  object \n",
      " 17  order_moment_collected             326105 non-null  object \n",
      " 18  order_moment_in_expedition         301570 non-null  object \n",
      " 19  order_moment_delivering            343683 non-null  object \n",
      " 20  order_moment_delivered             19601 non-null   object \n",
      " 21  order_moment_finished              353400 non-null  object \n",
      " 22  order_metric_collected_time        317507 non-null  float64\n",
      " 23  order_metric_paused_time           297594 non-null  float64\n",
      " 24  order_metric_production_time       343892 non-null  float64\n",
      " 25  order_metric_walking_time          294943 non-null  float64\n",
      " 26  order_metric_expediton_speed_time  334417 non-null  float64\n",
      " 27  order_metric_transit_time          343142 non-null  float64\n",
      " 28  order_metric_cycle_time            353380 non-null  float64\n",
      "dtypes: float64(10), int64(10), object(9)\n",
      "memory usage: 81.6+ MB\n"
     ]
    }
   ],
   "source": [
    "orders.info()"
   ]
  },
  {
   "cell_type": "markdown",
   "id": "73fee0cd-0d39-4692-9727-867c9c57031b",
   "metadata": {},
   "source": [
    "### Limpeza e manipulação"
   ]
  },
  {
   "cell_type": "markdown",
   "id": "b1b3cb7c-edbc-4d27-b888-e381edd46769",
   "metadata": {},
   "source": [
    "Esse é o dataset mais extenso dos que temos acesso, dele irei também utilizar somente algumas colunas, após separar elas darei prosseguimento a mais processos de limpeza."
   ]
  },
  {
   "cell_type": "code",
   "execution_count": 158,
   "id": "4dc6fbec-14c7-4b90-8684-3474c59ab5a0",
   "metadata": {},
   "outputs": [
    {
     "data": {
      "text/html": [
       "<div>\n",
       "<style scoped>\n",
       "    .dataframe tbody tr th:only-of-type {\n",
       "        vertical-align: middle;\n",
       "    }\n",
       "\n",
       "    .dataframe tbody tr th {\n",
       "        vertical-align: top;\n",
       "    }\n",
       "\n",
       "    .dataframe thead th {\n",
       "        text-align: right;\n",
       "    }\n",
       "</style>\n",
       "<table border=\"1\" class=\"dataframe\">\n",
       "  <thead>\n",
       "    <tr style=\"text-align: right;\">\n",
       "      <th></th>\n",
       "      <th>order_id</th>\n",
       "      <th>store_id</th>\n",
       "      <th>payment_order_id</th>\n",
       "      <th>delivery_order_id</th>\n",
       "      <th>order_status</th>\n",
       "      <th>order_created_day</th>\n",
       "      <th>order_created_month</th>\n",
       "      <th>order_created_year</th>\n",
       "    </tr>\n",
       "  </thead>\n",
       "  <tbody>\n",
       "    <tr>\n",
       "      <th>0</th>\n",
       "      <td>68405119</td>\n",
       "      <td>3512</td>\n",
       "      <td>68405119</td>\n",
       "      <td>68405119</td>\n",
       "      <td>CANCELED</td>\n",
       "      <td>1</td>\n",
       "      <td>1</td>\n",
       "      <td>2021</td>\n",
       "    </tr>\n",
       "    <tr>\n",
       "      <th>1</th>\n",
       "      <td>68405123</td>\n",
       "      <td>3512</td>\n",
       "      <td>68405123</td>\n",
       "      <td>68405123</td>\n",
       "      <td>CANCELED</td>\n",
       "      <td>1</td>\n",
       "      <td>1</td>\n",
       "      <td>2021</td>\n",
       "    </tr>\n",
       "    <tr>\n",
       "      <th>2</th>\n",
       "      <td>68405206</td>\n",
       "      <td>3512</td>\n",
       "      <td>68405206</td>\n",
       "      <td>68405206</td>\n",
       "      <td>CANCELED</td>\n",
       "      <td>1</td>\n",
       "      <td>1</td>\n",
       "      <td>2021</td>\n",
       "    </tr>\n",
       "    <tr>\n",
       "      <th>3</th>\n",
       "      <td>68405465</td>\n",
       "      <td>3401</td>\n",
       "      <td>68405465</td>\n",
       "      <td>68405465</td>\n",
       "      <td>CANCELED</td>\n",
       "      <td>1</td>\n",
       "      <td>1</td>\n",
       "      <td>2021</td>\n",
       "    </tr>\n",
       "    <tr>\n",
       "      <th>4</th>\n",
       "      <td>68406064</td>\n",
       "      <td>3401</td>\n",
       "      <td>68406064</td>\n",
       "      <td>68406064</td>\n",
       "      <td>CANCELED</td>\n",
       "      <td>1</td>\n",
       "      <td>1</td>\n",
       "      <td>2021</td>\n",
       "    </tr>\n",
       "  </tbody>\n",
       "</table>\n",
       "</div>"
      ],
      "text/plain": [
       "   order_id  store_id  payment_order_id  delivery_order_id order_status  \\\n",
       "0  68405119      3512          68405119           68405119     CANCELED   \n",
       "1  68405123      3512          68405123           68405123     CANCELED   \n",
       "2  68405206      3512          68405206           68405206     CANCELED   \n",
       "3  68405465      3401          68405465           68405465     CANCELED   \n",
       "4  68406064      3401          68406064           68406064     CANCELED   \n",
       "\n",
       "   order_created_day  order_created_month  order_created_year  \n",
       "0                  1                    1                2021  \n",
       "1                  1                    1                2021  \n",
       "2                  1                    1                2021  \n",
       "3                  1                    1                2021  \n",
       "4                  1                    1                2021  "
      ]
     },
     "execution_count": 158,
     "metadata": {},
     "output_type": "execute_result"
    }
   ],
   "source": [
    "orders = orders[['order_id', 'store_id', 'payment_order_id', 'delivery_order_id', 'order_status', \n",
    "                 'order_created_day', 'order_created_month', 'order_created_year']]\n",
    "orders.head()"
   ]
  },
  {
   "cell_type": "code",
   "execution_count": 159,
   "id": "9585704a-65ec-4cc7-a145-f4d1d1cc64ca",
   "metadata": {},
   "outputs": [
    {
     "data": {
      "text/plain": [
       "order_id               0\n",
       "store_id               0\n",
       "payment_order_id       0\n",
       "delivery_order_id      0\n",
       "order_status           0\n",
       "order_created_day      0\n",
       "order_created_month    0\n",
       "order_created_year     0\n",
       "dtype: int64"
      ]
     },
     "execution_count": 159,
     "metadata": {},
     "output_type": "execute_result"
    }
   ],
   "source": [
    "orders.isna().sum()"
   ]
  },
  {
   "cell_type": "code",
   "execution_count": 160,
   "id": "902455b9-2bcb-4ceb-a1d2-ea89ed25529c",
   "metadata": {},
   "outputs": [
    {
     "data": {
      "text/plain": [
       "0"
      ]
     },
     "execution_count": 160,
     "metadata": {},
     "output_type": "execute_result"
    }
   ],
   "source": [
    "orders.duplicated().sum()"
   ]
  },
  {
   "cell_type": "code",
   "execution_count": 161,
   "id": "f867da9b-48c9-45e2-aea0-80981aa0a7c3",
   "metadata": {},
   "outputs": [
    {
     "data": {
      "text/html": [
       "<div>\n",
       "<style scoped>\n",
       "    .dataframe tbody tr th:only-of-type {\n",
       "        vertical-align: middle;\n",
       "    }\n",
       "\n",
       "    .dataframe tbody tr th {\n",
       "        vertical-align: top;\n",
       "    }\n",
       "\n",
       "    .dataframe thead th {\n",
       "        text-align: right;\n",
       "    }\n",
       "</style>\n",
       "<table border=\"1\" class=\"dataframe\">\n",
       "  <thead>\n",
       "    <tr style=\"text-align: right;\">\n",
       "      <th></th>\n",
       "      <th>order_id</th>\n",
       "      <th>store_id</th>\n",
       "      <th>payment_order_id</th>\n",
       "      <th>delivery_order_id</th>\n",
       "      <th>order_status</th>\n",
       "      <th>order_created_day</th>\n",
       "      <th>order_created_month</th>\n",
       "      <th>order_created_year</th>\n",
       "      <th>order_date</th>\n",
       "    </tr>\n",
       "  </thead>\n",
       "  <tbody>\n",
       "    <tr>\n",
       "      <th>0</th>\n",
       "      <td>68405119</td>\n",
       "      <td>3512</td>\n",
       "      <td>68405119</td>\n",
       "      <td>68405119</td>\n",
       "      <td>CANCELED</td>\n",
       "      <td>1</td>\n",
       "      <td>1</td>\n",
       "      <td>2021</td>\n",
       "      <td>2021-1-1</td>\n",
       "    </tr>\n",
       "    <tr>\n",
       "      <th>1</th>\n",
       "      <td>68405123</td>\n",
       "      <td>3512</td>\n",
       "      <td>68405123</td>\n",
       "      <td>68405123</td>\n",
       "      <td>CANCELED</td>\n",
       "      <td>1</td>\n",
       "      <td>1</td>\n",
       "      <td>2021</td>\n",
       "      <td>2021-1-1</td>\n",
       "    </tr>\n",
       "    <tr>\n",
       "      <th>2</th>\n",
       "      <td>68405206</td>\n",
       "      <td>3512</td>\n",
       "      <td>68405206</td>\n",
       "      <td>68405206</td>\n",
       "      <td>CANCELED</td>\n",
       "      <td>1</td>\n",
       "      <td>1</td>\n",
       "      <td>2021</td>\n",
       "      <td>2021-1-1</td>\n",
       "    </tr>\n",
       "    <tr>\n",
       "      <th>3</th>\n",
       "      <td>68405465</td>\n",
       "      <td>3401</td>\n",
       "      <td>68405465</td>\n",
       "      <td>68405465</td>\n",
       "      <td>CANCELED</td>\n",
       "      <td>1</td>\n",
       "      <td>1</td>\n",
       "      <td>2021</td>\n",
       "      <td>2021-1-1</td>\n",
       "    </tr>\n",
       "    <tr>\n",
       "      <th>4</th>\n",
       "      <td>68406064</td>\n",
       "      <td>3401</td>\n",
       "      <td>68406064</td>\n",
       "      <td>68406064</td>\n",
       "      <td>CANCELED</td>\n",
       "      <td>1</td>\n",
       "      <td>1</td>\n",
       "      <td>2021</td>\n",
       "      <td>2021-1-1</td>\n",
       "    </tr>\n",
       "  </tbody>\n",
       "</table>\n",
       "</div>"
      ],
      "text/plain": [
       "   order_id  store_id  payment_order_id  delivery_order_id order_status  \\\n",
       "0  68405119      3512          68405119           68405119     CANCELED   \n",
       "1  68405123      3512          68405123           68405123     CANCELED   \n",
       "2  68405206      3512          68405206           68405206     CANCELED   \n",
       "3  68405465      3401          68405465           68405465     CANCELED   \n",
       "4  68406064      3401          68406064           68406064     CANCELED   \n",
       "\n",
       "   order_created_day  order_created_month  order_created_year order_date  \n",
       "0                  1                    1                2021   2021-1-1  \n",
       "1                  1                    1                2021   2021-1-1  \n",
       "2                  1                    1                2021   2021-1-1  \n",
       "3                  1                    1                2021   2021-1-1  \n",
       "4                  1                    1                2021   2021-1-1  "
      ]
     },
     "execution_count": 161,
     "metadata": {},
     "output_type": "execute_result"
    }
   ],
   "source": [
    "# Vou criar uma coluna chamada order_date\n",
    "\n",
    "orders['order_date'] = orders['order_created_year'].astype(str) + \"-\" + orders['order_created_month'].astype(str)\\\n",
    "+ \"-\" + orders['order_created_day'].astype(str)\n",
    "\n",
    "orders.head()"
   ]
  },
  {
   "cell_type": "code",
   "execution_count": 162,
   "id": "1d97ba09-0602-4fd7-9fcb-9050ee62d9e0",
   "metadata": {},
   "outputs": [
    {
     "data": {
      "text/html": [
       "<div>\n",
       "<style scoped>\n",
       "    .dataframe tbody tr th:only-of-type {\n",
       "        vertical-align: middle;\n",
       "    }\n",
       "\n",
       "    .dataframe tbody tr th {\n",
       "        vertical-align: top;\n",
       "    }\n",
       "\n",
       "    .dataframe thead th {\n",
       "        text-align: right;\n",
       "    }\n",
       "</style>\n",
       "<table border=\"1\" class=\"dataframe\">\n",
       "  <thead>\n",
       "    <tr style=\"text-align: right;\">\n",
       "      <th></th>\n",
       "      <th>order_id</th>\n",
       "      <th>store_id</th>\n",
       "      <th>payment_order_id</th>\n",
       "      <th>delivery_order_id</th>\n",
       "      <th>order_status</th>\n",
       "      <th>order_date</th>\n",
       "    </tr>\n",
       "  </thead>\n",
       "  <tbody>\n",
       "    <tr>\n",
       "      <th>0</th>\n",
       "      <td>68405119</td>\n",
       "      <td>3512</td>\n",
       "      <td>68405119</td>\n",
       "      <td>68405119</td>\n",
       "      <td>CANCELED</td>\n",
       "      <td>2021-01-01</td>\n",
       "    </tr>\n",
       "    <tr>\n",
       "      <th>1</th>\n",
       "      <td>68405123</td>\n",
       "      <td>3512</td>\n",
       "      <td>68405123</td>\n",
       "      <td>68405123</td>\n",
       "      <td>CANCELED</td>\n",
       "      <td>2021-01-01</td>\n",
       "    </tr>\n",
       "    <tr>\n",
       "      <th>2</th>\n",
       "      <td>68405206</td>\n",
       "      <td>3512</td>\n",
       "      <td>68405206</td>\n",
       "      <td>68405206</td>\n",
       "      <td>CANCELED</td>\n",
       "      <td>2021-01-01</td>\n",
       "    </tr>\n",
       "    <tr>\n",
       "      <th>3</th>\n",
       "      <td>68405465</td>\n",
       "      <td>3401</td>\n",
       "      <td>68405465</td>\n",
       "      <td>68405465</td>\n",
       "      <td>CANCELED</td>\n",
       "      <td>2021-01-01</td>\n",
       "    </tr>\n",
       "    <tr>\n",
       "      <th>4</th>\n",
       "      <td>68406064</td>\n",
       "      <td>3401</td>\n",
       "      <td>68406064</td>\n",
       "      <td>68406064</td>\n",
       "      <td>CANCELED</td>\n",
       "      <td>2021-01-01</td>\n",
       "    </tr>\n",
       "  </tbody>\n",
       "</table>\n",
       "</div>"
      ],
      "text/plain": [
       "   order_id  store_id  payment_order_id  delivery_order_id order_status  \\\n",
       "0  68405119      3512          68405119           68405119     CANCELED   \n",
       "1  68405123      3512          68405123           68405123     CANCELED   \n",
       "2  68405206      3512          68405206           68405206     CANCELED   \n",
       "3  68405465      3401          68405465           68405465     CANCELED   \n",
       "4  68406064      3401          68406064           68406064     CANCELED   \n",
       "\n",
       "  order_date  \n",
       "0 2021-01-01  \n",
       "1 2021-01-01  \n",
       "2 2021-01-01  \n",
       "3 2021-01-01  \n",
       "4 2021-01-01  "
      ]
     },
     "execution_count": 162,
     "metadata": {},
     "output_type": "execute_result"
    }
   ],
   "source": [
    "# Agora ela será convertida para datetime e o restante removida\n",
    "\n",
    "orders.drop(columns = ['order_created_day', 'order_created_month', 'order_created_year'], axis = 1, inplace = True)\n",
    "orders['order_date'] = pd.to_datetime(orders['order_date'])\n",
    "orders.head()"
   ]
  },
  {
   "cell_type": "code",
   "execution_count": 163,
   "id": "b1386b64-aea6-48c4-bf67-4b473855525e",
   "metadata": {},
   "outputs": [
    {
     "data": {
      "text/plain": [
       "array(['CANCELED', 'FINISHED'], dtype=object)"
      ]
     },
     "execution_count": 163,
     "metadata": {},
     "output_type": "execute_result"
    }
   ],
   "source": [
    "orders['order_status'].unique()"
   ]
  },
  {
   "cell_type": "code",
   "execution_count": 164,
   "id": "7e122268-8002-4fa7-b1ea-0bb4d09ac794",
   "metadata": {},
   "outputs": [
    {
     "data": {
      "text/plain": [
       "order_status\n",
       "FINISHED    352020\n",
       "CANCELED     16979\n",
       "Name: count, dtype: int64"
      ]
     },
     "execution_count": 164,
     "metadata": {},
     "output_type": "execute_result"
    }
   ],
   "source": [
    "orders['order_status'].value_counts()"
   ]
  },
  {
   "cell_type": "code",
   "execution_count": 165,
   "id": "9ab000e7-928e-489f-b247-a0f054c83178",
   "metadata": {},
   "outputs": [
    {
     "data": {
      "text/html": [
       "<div>\n",
       "<style scoped>\n",
       "    .dataframe tbody tr th:only-of-type {\n",
       "        vertical-align: middle;\n",
       "    }\n",
       "\n",
       "    .dataframe tbody tr th {\n",
       "        vertical-align: top;\n",
       "    }\n",
       "\n",
       "    .dataframe thead th {\n",
       "        text-align: right;\n",
       "    }\n",
       "</style>\n",
       "<table border=\"1\" class=\"dataframe\">\n",
       "  <thead>\n",
       "    <tr style=\"text-align: right;\">\n",
       "      <th></th>\n",
       "      <th>order_id</th>\n",
       "      <th>store_id</th>\n",
       "      <th>payment_order_id</th>\n",
       "      <th>delivery_order_id</th>\n",
       "      <th>order_status</th>\n",
       "      <th>order_date</th>\n",
       "    </tr>\n",
       "  </thead>\n",
       "  <tbody>\n",
       "    <tr>\n",
       "      <th>8</th>\n",
       "      <td>68410055</td>\n",
       "      <td>2181</td>\n",
       "      <td>68410055</td>\n",
       "      <td>68410055</td>\n",
       "      <td>FINISHED</td>\n",
       "      <td>2021-01-01</td>\n",
       "    </tr>\n",
       "    <tr>\n",
       "      <th>17</th>\n",
       "      <td>68412721</td>\n",
       "      <td>631</td>\n",
       "      <td>68412721</td>\n",
       "      <td>68412721</td>\n",
       "      <td>FINISHED</td>\n",
       "      <td>2021-01-01</td>\n",
       "    </tr>\n",
       "    <tr>\n",
       "      <th>18</th>\n",
       "      <td>68413340</td>\n",
       "      <td>631</td>\n",
       "      <td>68413340</td>\n",
       "      <td>68413340</td>\n",
       "      <td>FINISHED</td>\n",
       "      <td>2021-01-01</td>\n",
       "    </tr>\n",
       "    <tr>\n",
       "      <th>19</th>\n",
       "      <td>68414018</td>\n",
       "      <td>3265</td>\n",
       "      <td>68414018</td>\n",
       "      <td>68414018</td>\n",
       "      <td>FINISHED</td>\n",
       "      <td>2021-01-01</td>\n",
       "    </tr>\n",
       "    <tr>\n",
       "      <th>20</th>\n",
       "      <td>68414309</td>\n",
       "      <td>236</td>\n",
       "      <td>68414309</td>\n",
       "      <td>68414309</td>\n",
       "      <td>FINISHED</td>\n",
       "      <td>2021-01-01</td>\n",
       "    </tr>\n",
       "  </tbody>\n",
       "</table>\n",
       "</div>"
      ],
      "text/plain": [
       "    order_id  store_id  payment_order_id  delivery_order_id order_status  \\\n",
       "8   68410055      2181          68410055           68410055     FINISHED   \n",
       "17  68412721       631          68412721           68412721     FINISHED   \n",
       "18  68413340       631          68413340           68413340     FINISHED   \n",
       "19  68414018      3265          68414018           68414018     FINISHED   \n",
       "20  68414309       236          68414309           68414309     FINISHED   \n",
       "\n",
       "   order_date  \n",
       "8  2021-01-01  \n",
       "17 2021-01-01  \n",
       "18 2021-01-01  \n",
       "19 2021-01-01  \n",
       "20 2021-01-01  "
      ]
     },
     "execution_count": 165,
     "metadata": {},
     "output_type": "execute_result"
    }
   ],
   "source": [
    "# Vou manter apenas as entregas finalizadas\n",
    "\n",
    "orders = orders[orders['order_status'] == \"FINISHED\"]\n",
    "orders.head()"
   ]
  },
  {
   "cell_type": "code",
   "execution_count": 166,
   "id": "96331601-a511-4922-9656-4cc260c09370",
   "metadata": {},
   "outputs": [
    {
     "name": "stdout",
     "output_type": "stream",
     "text": [
      "<class 'pandas.core.frame.DataFrame'>\n",
      "Index: 352020 entries, 8 to 368998\n",
      "Data columns (total 6 columns):\n",
      " #   Column             Non-Null Count   Dtype         \n",
      "---  ------             --------------   -----         \n",
      " 0   order_id           352020 non-null  int64         \n",
      " 1   store_id           352020 non-null  int64         \n",
      " 2   payment_order_id   352020 non-null  int64         \n",
      " 3   delivery_order_id  352020 non-null  int64         \n",
      " 4   order_status       352020 non-null  object        \n",
      " 5   order_date         352020 non-null  datetime64[ns]\n",
      "dtypes: datetime64[ns](1), int64(4), object(1)\n",
      "memory usage: 18.8+ MB\n"
     ]
    }
   ],
   "source": [
    "orders.info()"
   ]
  },
  {
   "cell_type": "markdown",
   "id": "31d5fe29-e681-4965-98be-8ca6ee75bbf3",
   "metadata": {},
   "source": [
    "## 2.5. Payments"
   ]
  },
  {
   "cell_type": "markdown",
   "id": "6a2d12f9-60e3-4670-a37a-bbac91646cb8",
   "metadata": {},
   "source": [
    "### Estrutura"
   ]
  },
  {
   "cell_type": "code",
   "execution_count": 167,
   "id": "b9539fb2-6f9a-4e89-b243-144b910ca180",
   "metadata": {},
   "outputs": [
    {
     "data": {
      "text/plain": [
       "(400834, 6)"
      ]
     },
     "execution_count": 167,
     "metadata": {},
     "output_type": "execute_result"
    }
   ],
   "source": [
    "payments.shape"
   ]
  },
  {
   "cell_type": "code",
   "execution_count": 168,
   "id": "357145fe-44b6-4125-9465-c165c6310e48",
   "metadata": {},
   "outputs": [
    {
     "data": {
      "text/html": [
       "<div>\n",
       "<style scoped>\n",
       "    .dataframe tbody tr th:only-of-type {\n",
       "        vertical-align: middle;\n",
       "    }\n",
       "\n",
       "    .dataframe tbody tr th {\n",
       "        vertical-align: top;\n",
       "    }\n",
       "\n",
       "    .dataframe thead th {\n",
       "        text-align: right;\n",
       "    }\n",
       "</style>\n",
       "<table border=\"1\" class=\"dataframe\">\n",
       "  <thead>\n",
       "    <tr style=\"text-align: right;\">\n",
       "      <th></th>\n",
       "      <th>payment_id</th>\n",
       "      <th>payment_order_id</th>\n",
       "      <th>payment_amount</th>\n",
       "      <th>payment_fee</th>\n",
       "      <th>payment_method</th>\n",
       "      <th>payment_status</th>\n",
       "    </tr>\n",
       "  </thead>\n",
       "  <tbody>\n",
       "    <tr>\n",
       "      <th>0</th>\n",
       "      <td>4427917</td>\n",
       "      <td>68410055</td>\n",
       "      <td>118.44</td>\n",
       "      <td>0.00</td>\n",
       "      <td>VOUCHER</td>\n",
       "      <td>PAID</td>\n",
       "    </tr>\n",
       "    <tr>\n",
       "      <th>1</th>\n",
       "      <td>4427918</td>\n",
       "      <td>68410055</td>\n",
       "      <td>394.81</td>\n",
       "      <td>7.90</td>\n",
       "      <td>ONLINE</td>\n",
       "      <td>PAID</td>\n",
       "    </tr>\n",
       "    <tr>\n",
       "      <th>2</th>\n",
       "      <td>4427941</td>\n",
       "      <td>68412721</td>\n",
       "      <td>206.95</td>\n",
       "      <td>5.59</td>\n",
       "      <td>ONLINE</td>\n",
       "      <td>PAID</td>\n",
       "    </tr>\n",
       "    <tr>\n",
       "      <th>3</th>\n",
       "      <td>4427948</td>\n",
       "      <td>68413340</td>\n",
       "      <td>58.80</td>\n",
       "      <td>1.59</td>\n",
       "      <td>ONLINE</td>\n",
       "      <td>PAID</td>\n",
       "    </tr>\n",
       "    <tr>\n",
       "      <th>4</th>\n",
       "      <td>4427955</td>\n",
       "      <td>68414018</td>\n",
       "      <td>45.80</td>\n",
       "      <td>0.92</td>\n",
       "      <td>ONLINE</td>\n",
       "      <td>PAID</td>\n",
       "    </tr>\n",
       "  </tbody>\n",
       "</table>\n",
       "</div>"
      ],
      "text/plain": [
       "   payment_id  payment_order_id  payment_amount  payment_fee payment_method  \\\n",
       "0     4427917          68410055          118.44         0.00        VOUCHER   \n",
       "1     4427918          68410055          394.81         7.90         ONLINE   \n",
       "2     4427941          68412721          206.95         5.59         ONLINE   \n",
       "3     4427948          68413340           58.80         1.59         ONLINE   \n",
       "4     4427955          68414018           45.80         0.92         ONLINE   \n",
       "\n",
       "  payment_status  \n",
       "0           PAID  \n",
       "1           PAID  \n",
       "2           PAID  \n",
       "3           PAID  \n",
       "4           PAID  "
      ]
     },
     "execution_count": 168,
     "metadata": {},
     "output_type": "execute_result"
    }
   ],
   "source": [
    "payments.head()"
   ]
  },
  {
   "cell_type": "code",
   "execution_count": 169,
   "id": "97a222a6-658b-40fe-baf8-33e0a3b394a4",
   "metadata": {},
   "outputs": [
    {
     "name": "stdout",
     "output_type": "stream",
     "text": [
      "<class 'pandas.core.frame.DataFrame'>\n",
      "RangeIndex: 400834 entries, 0 to 400833\n",
      "Data columns (total 6 columns):\n",
      " #   Column            Non-Null Count   Dtype  \n",
      "---  ------            --------------   -----  \n",
      " 0   payment_id        400834 non-null  int64  \n",
      " 1   payment_order_id  400834 non-null  int64  \n",
      " 2   payment_amount    400834 non-null  float64\n",
      " 3   payment_fee       400659 non-null  float64\n",
      " 4   payment_method    400834 non-null  object \n",
      " 5   payment_status    400834 non-null  object \n",
      "dtypes: float64(2), int64(2), object(2)\n",
      "memory usage: 18.3+ MB\n"
     ]
    }
   ],
   "source": [
    "payments.info()"
   ]
  },
  {
   "cell_type": "code",
   "execution_count": 170,
   "id": "9da290ac-1d47-4872-b4db-d881c360ce43",
   "metadata": {},
   "outputs": [
    {
     "data": {
      "text/html": [
       "<div>\n",
       "<style scoped>\n",
       "    .dataframe tbody tr th:only-of-type {\n",
       "        vertical-align: middle;\n",
       "    }\n",
       "\n",
       "    .dataframe tbody tr th {\n",
       "        vertical-align: top;\n",
       "    }\n",
       "\n",
       "    .dataframe thead th {\n",
       "        text-align: right;\n",
       "    }\n",
       "</style>\n",
       "<table border=\"1\" class=\"dataframe\">\n",
       "  <thead>\n",
       "    <tr style=\"text-align: right;\">\n",
       "      <th></th>\n",
       "      <th>count</th>\n",
       "      <th>mean</th>\n",
       "      <th>std</th>\n",
       "      <th>min</th>\n",
       "      <th>25%</th>\n",
       "      <th>50%</th>\n",
       "      <th>75%</th>\n",
       "      <th>max</th>\n",
       "    </tr>\n",
       "  </thead>\n",
       "  <tbody>\n",
       "    <tr>\n",
       "      <th>payment_amount</th>\n",
       "      <td>400834.0</td>\n",
       "      <td>93.09</td>\n",
       "      <td>221.95</td>\n",
       "      <td>0.0</td>\n",
       "      <td>32.70</td>\n",
       "      <td>65.88</td>\n",
       "      <td>121.40</td>\n",
       "      <td>100000.11</td>\n",
       "    </tr>\n",
       "    <tr>\n",
       "      <th>payment_fee</th>\n",
       "      <td>400659.0</td>\n",
       "      <td>1.88</td>\n",
       "      <td>4.54</td>\n",
       "      <td>0.0</td>\n",
       "      <td>0.44</td>\n",
       "      <td>1.04</td>\n",
       "      <td>2.71</td>\n",
       "      <td>2000.00</td>\n",
       "    </tr>\n",
       "  </tbody>\n",
       "</table>\n",
       "</div>"
      ],
      "text/plain": [
       "                   count   mean     std  min    25%    50%     75%        max\n",
       "payment_amount  400834.0  93.09  221.95  0.0  32.70  65.88  121.40  100000.11\n",
       "payment_fee     400659.0   1.88    4.54  0.0   0.44   1.04    2.71    2000.00"
      ]
     },
     "execution_count": 170,
     "metadata": {},
     "output_type": "execute_result"
    }
   ],
   "source": [
    "# Novamente vou buscar valores extremos\n",
    "\n",
    "payments[['payment_amount', 'payment_fee']].describe().T.round(2)"
   ]
  },
  {
   "cell_type": "code",
   "execution_count": 171,
   "id": "c57e88f5-6807-47d2-90d8-c794f34a6bfe",
   "metadata": {},
   "outputs": [
    {
     "data": {
      "image/png": "[encoded data removed]",
      "text/plain": [
       "<Figure size 800x600 with 1 Axes>"
      ]
     },
     "metadata": {},
     "output_type": "display_data"
    }
   ],
   "source": [
    "fig, ax = plt.subplots(figsize = (8, 6))\n",
    "\n",
    "sns.boxplot(payments, x = 'payment_amount')\n",
    "ax.set_title('Boxplot dos Pagamentos', fontsize = 15, pad = 12, loc = 'left')\n",
    "ax.set_xlabel('Pagamento em R$', fontsize = 12)\n",
    "plt.show()"
   ]
  },
  {
   "cell_type": "code",
   "execution_count": 172,
   "id": "4f1a6cb7-3651-4d4d-aba0-e6a745a6e02c",
   "metadata": {},
   "outputs": [
    {
     "data": {
      "image/png": "[encoded data removed]",
      "text/plain": [
       "<Figure size 800x600 with 1 Axes>"
      ]
     },
     "metadata": {},
     "output_type": "display_data"
    }
   ],
   "source": [
    "fig, ax = plt.subplots(figsize = (8, 6))\n",
    "\n",
    "sns.boxplot(payments, x = 'payment_fee')\n",
    "ax.set_title('Boxplot dos Descontos', fontsize = 15, pad = 12, loc = 'left')\n",
    "ax.set_xlabel('Desconto em R$', fontsize = 12)\n",
    "plt.show()"
   ]
  },
  {
   "cell_type": "markdown",
   "id": "d610ae04-40f8-41a6-bc66-f5a351d358a9",
   "metadata": {},
   "source": [
    "payment_fee é totalmente dependente de payment_amount, então vou aplicar primeiro o tratamento de outliers nessa coluna e ver como a outra vai se comportar."
   ]
  },
  {
   "cell_type": "code",
   "execution_count": 173,
   "id": "b088546b-ca9b-4115-98a3-13608f29d70b",
   "metadata": {},
   "outputs": [
    {
     "data": {
      "text/html": [
       "<div>\n",
       "<style scoped>\n",
       "    .dataframe tbody tr th:only-of-type {\n",
       "        vertical-align: middle;\n",
       "    }\n",
       "\n",
       "    .dataframe tbody tr th {\n",
       "        vertical-align: top;\n",
       "    }\n",
       "\n",
       "    .dataframe thead th {\n",
       "        text-align: right;\n",
       "    }\n",
       "</style>\n",
       "<table border=\"1\" class=\"dataframe\">\n",
       "  <thead>\n",
       "    <tr style=\"text-align: right;\">\n",
       "      <th></th>\n",
       "      <th>payment_id</th>\n",
       "      <th>payment_order_id</th>\n",
       "      <th>payment_amount</th>\n",
       "      <th>payment_fee</th>\n",
       "      <th>payment_method</th>\n",
       "      <th>payment_status</th>\n",
       "    </tr>\n",
       "  </thead>\n",
       "  <tbody>\n",
       "    <tr>\n",
       "      <th>1</th>\n",
       "      <td>4427918</td>\n",
       "      <td>68410055</td>\n",
       "      <td>394.81</td>\n",
       "      <td>7.90</td>\n",
       "      <td>ONLINE</td>\n",
       "      <td>PAID</td>\n",
       "    </tr>\n",
       "    <tr>\n",
       "      <th>76</th>\n",
       "      <td>4428184</td>\n",
       "      <td>68424659</td>\n",
       "      <td>281.90</td>\n",
       "      <td>7.61</td>\n",
       "      <td>ONLINE</td>\n",
       "      <td>PAID</td>\n",
       "    </tr>\n",
       "    <tr>\n",
       "      <th>86</th>\n",
       "      <td>4428218</td>\n",
       "      <td>68426299</td>\n",
       "      <td>340.90</td>\n",
       "      <td>5.11</td>\n",
       "      <td>ONLINE</td>\n",
       "      <td>PAID</td>\n",
       "    </tr>\n",
       "    <tr>\n",
       "      <th>168</th>\n",
       "      <td>4428432</td>\n",
       "      <td>68434849</td>\n",
       "      <td>681.60</td>\n",
       "      <td>18.40</td>\n",
       "      <td>ONLINE</td>\n",
       "      <td>PAID</td>\n",
       "    </tr>\n",
       "    <tr>\n",
       "      <th>190</th>\n",
       "      <td>4428493</td>\n",
       "      <td>68436739</td>\n",
       "      <td>362.00</td>\n",
       "      <td>9.77</td>\n",
       "      <td>ONLINE</td>\n",
       "      <td>PAID</td>\n",
       "    </tr>\n",
       "  </tbody>\n",
       "</table>\n",
       "</div>"
      ],
      "text/plain": [
       "     payment_id  payment_order_id  payment_amount  payment_fee payment_method  \\\n",
       "1       4427918          68410055          394.81         7.90         ONLINE   \n",
       "76      4428184          68424659          281.90         7.61         ONLINE   \n",
       "86      4428218          68426299          340.90         5.11         ONLINE   \n",
       "168     4428432          68434849          681.60        18.40         ONLINE   \n",
       "190     4428493          68436739          362.00         9.77         ONLINE   \n",
       "\n",
       "    payment_status  \n",
       "1             PAID  \n",
       "76            PAID  \n",
       "86            PAID  \n",
       "168           PAID  \n",
       "190           PAID  "
      ]
     },
     "execution_count": 173,
     "metadata": {},
     "output_type": "execute_result"
    }
   ],
   "source": [
    "# Calculando intervalo interquatil\n",
    "Q1 = payments['payment_amount'].quantile(0.25)\n",
    "Q3 = payments['payment_amount'].quantile(0.75)\n",
    "IQR = Q3 - Q1\n",
    "\n",
    "# Calculando os limites inferior e superior\n",
    "limite_inf = Q1 - 1.5 * IQR\n",
    "limite_sup = Q3 + 1.5 * IQR\n",
    "\n",
    "# Dados extremos\n",
    "outliers = payments[(payments['payment_amount'] < limite_inf) | (payments['payment_amount'] > limite_sup)]\n",
    "outliers.head()"
   ]
  },
  {
   "cell_type": "code",
   "execution_count": 174,
   "id": "a2a6df41-ab13-46ff-b6af-e31c747044e1",
   "metadata": {},
   "outputs": [
    {
     "name": "stdout",
     "output_type": "stream",
     "text": [
      "<class 'pandas.core.frame.DataFrame'>\n",
      "Index: 383448 entries, 0 to 400833\n",
      "Data columns (total 6 columns):\n",
      " #   Column            Non-Null Count   Dtype  \n",
      "---  ------            --------------   -----  \n",
      " 0   payment_id        383448 non-null  int64  \n",
      " 1   payment_order_id  383448 non-null  int64  \n",
      " 2   payment_amount    383448 non-null  float64\n",
      " 3   payment_fee       383294 non-null  float64\n",
      " 4   payment_method    383448 non-null  object \n",
      " 5   payment_status    383448 non-null  object \n",
      "dtypes: float64(2), int64(2), object(2)\n",
      "memory usage: 20.5+ MB\n"
     ]
    }
   ],
   "source": [
    "payments_clean = payments[(payments['payment_amount'] >= limite_inf) & (payments['payment_amount'] <= limite_sup)].copy()\n",
    "payments_clean.reset_index()\n",
    "payments_clean.info()"
   ]
  },
  {
   "cell_type": "code",
   "execution_count": 175,
   "id": "5c24dc31-51cd-4a3a-82d4-4df05b350607",
   "metadata": {},
   "outputs": [
    {
     "data": {
      "image/png": "[encoded data removed]",
      "text/plain": [
       "<Figure size 800x600 with 1 Axes>"
      ]
     },
     "metadata": {},
     "output_type": "display_data"
    }
   ],
   "source": [
    "fig, ax = plt.subplots(figsize = (8, 6))\n",
    "\n",
    "sns.boxplot(payments_clean, x = 'payment_amount')\n",
    "ax.set_title('Boxplot dos Pagamentos', fontsize = 15, pad = 12, loc = 'left')\n",
    "ax.set_xlabel('Pagamento em R$', fontsize = 12)\n",
    "plt.show()"
   ]
  },
  {
   "cell_type": "code",
   "execution_count": 176,
   "id": "1281376c-85c8-4746-8715-08d9433ed9db",
   "metadata": {},
   "outputs": [
    {
     "data": {
      "image/png": "[encoded data removed]",
      "text/plain": [
       "<Figure size 800x600 with 1 Axes>"
      ]
     },
     "metadata": {},
     "output_type": "display_data"
    }
   ],
   "source": [
    "fig, ax = plt.subplots(figsize = (8, 6))\n",
    "\n",
    "sns.boxplot(payments_clean, x = 'payment_fee', color = 'tab:blue')\n",
    "ax.set_title('Boxplot dos Descontos', fontsize = 15, pad = 12, loc = 'left')\n",
    "ax.set_xlabel('Desconto em R$', fontsize = 12)\n",
    "plt.show()"
   ]
  },
  {
   "cell_type": "markdown",
   "id": "d9432b18-0a05-4b26-8e31-4131c608f6ab",
   "metadata": {},
   "source": [
    "Acredito não ser necessário mais uma rodada de limpeza de valores extremos, novamente pedidos nesse valor mais alto são razoáveis."
   ]
  },
  {
   "cell_type": "markdown",
   "id": "32a90c92-6c69-4766-9628-d95e47ad88a7",
   "metadata": {},
   "source": [
    "## 2.6. Stores"
   ]
  },
  {
   "cell_type": "markdown",
   "id": "b7ffa8eb-f17e-460b-940f-c14d36cc6826",
   "metadata": {},
   "source": [
    "### Estrutura"
   ]
  },
  {
   "cell_type": "code",
   "execution_count": 177,
   "id": "6554677f-615b-46cc-bafe-8babb7cce9e4",
   "metadata": {},
   "outputs": [
    {
     "data": {
      "text/plain": [
       "(951, 7)"
      ]
     },
     "execution_count": 177,
     "metadata": {},
     "output_type": "execute_result"
    }
   ],
   "source": [
    "stores.shape"
   ]
  },
  {
   "cell_type": "code",
   "execution_count": 178,
   "id": "1f2ae183-bb2c-419a-893c-145541444774",
   "metadata": {},
   "outputs": [
    {
     "data": {
      "text/html": [
       "<div>\n",
       "<style scoped>\n",
       "    .dataframe tbody tr th:only-of-type {\n",
       "        vertical-align: middle;\n",
       "    }\n",
       "\n",
       "    .dataframe tbody tr th {\n",
       "        vertical-align: top;\n",
       "    }\n",
       "\n",
       "    .dataframe thead th {\n",
       "        text-align: right;\n",
       "    }\n",
       "</style>\n",
       "<table border=\"1\" class=\"dataframe\">\n",
       "  <thead>\n",
       "    <tr style=\"text-align: right;\">\n",
       "      <th></th>\n",
       "      <th>store_id</th>\n",
       "      <th>hub_id</th>\n",
       "      <th>store_name</th>\n",
       "      <th>store_segment</th>\n",
       "      <th>store_plan_price</th>\n",
       "      <th>store_latitude</th>\n",
       "      <th>store_longitude</th>\n",
       "    </tr>\n",
       "  </thead>\n",
       "  <tbody>\n",
       "    <tr>\n",
       "      <th>0</th>\n",
       "      <td>3</td>\n",
       "      <td>2</td>\n",
       "      <td>CUMIURI</td>\n",
       "      <td>FOOD</td>\n",
       "      <td>0.0</td>\n",
       "      <td>NaN</td>\n",
       "      <td>NaN</td>\n",
       "    </tr>\n",
       "    <tr>\n",
       "      <th>1</th>\n",
       "      <td>6</td>\n",
       "      <td>3</td>\n",
       "      <td>PIMGUCIS DA VIVA</td>\n",
       "      <td>FOOD</td>\n",
       "      <td>0.0</td>\n",
       "      <td>-30.037415</td>\n",
       "      <td>-51.203520</td>\n",
       "    </tr>\n",
       "    <tr>\n",
       "      <th>2</th>\n",
       "      <td>8</td>\n",
       "      <td>3</td>\n",
       "      <td>RASMUR S</td>\n",
       "      <td>FOOD</td>\n",
       "      <td>0.0</td>\n",
       "      <td>-30.037415</td>\n",
       "      <td>-51.203520</td>\n",
       "    </tr>\n",
       "    <tr>\n",
       "      <th>3</th>\n",
       "      <td>53</td>\n",
       "      <td>8</td>\n",
       "      <td>PAPA SUCIS</td>\n",
       "      <td>FOOD</td>\n",
       "      <td>0.0</td>\n",
       "      <td>-22.921475</td>\n",
       "      <td>-43.234822</td>\n",
       "    </tr>\n",
       "    <tr>\n",
       "      <th>4</th>\n",
       "      <td>54</td>\n",
       "      <td>8</td>\n",
       "      <td>VUZPI PAZZIS</td>\n",
       "      <td>FOOD</td>\n",
       "      <td>0.0</td>\n",
       "      <td>-22.921475</td>\n",
       "      <td>-43.234822</td>\n",
       "    </tr>\n",
       "  </tbody>\n",
       "</table>\n",
       "</div>"
      ],
      "text/plain": [
       "   store_id  hub_id         store_name store_segment  store_plan_price  \\\n",
       "0         3       2            CUMIURI          FOOD               0.0   \n",
       "1         6       3  PIMGUCIS DA VIVA           FOOD               0.0   \n",
       "2         8       3          RASMUR S           FOOD               0.0   \n",
       "3        53       8        PAPA SUCIS           FOOD               0.0   \n",
       "4        54       8      VUZPI PAZZIS           FOOD               0.0   \n",
       "\n",
       "   store_latitude  store_longitude  \n",
       "0             NaN              NaN  \n",
       "1      -30.037415       -51.203520  \n",
       "2      -30.037415       -51.203520  \n",
       "3      -22.921475       -43.234822  \n",
       "4      -22.921475       -43.234822  "
      ]
     },
     "execution_count": 178,
     "metadata": {},
     "output_type": "execute_result"
    }
   ],
   "source": [
    "stores.head()"
   ]
  },
  {
   "cell_type": "code",
   "execution_count": 179,
   "id": "71447ba3-9f3a-4ea3-876e-66abe7d2d577",
   "metadata": {},
   "outputs": [
    {
     "name": "stdout",
     "output_type": "stream",
     "text": [
      "<class 'pandas.core.frame.DataFrame'>\n",
      "RangeIndex: 951 entries, 0 to 950\n",
      "Data columns (total 7 columns):\n",
      " #   Column            Non-Null Count  Dtype  \n",
      "---  ------            --------------  -----  \n",
      " 0   store_id          951 non-null    int64  \n",
      " 1   hub_id            951 non-null    int64  \n",
      " 2   store_name        951 non-null    object \n",
      " 3   store_segment     951 non-null    object \n",
      " 4   store_plan_price  836 non-null    float64\n",
      " 5   store_latitude    935 non-null    float64\n",
      " 6   store_longitude   935 non-null    float64\n",
      "dtypes: float64(3), int64(2), object(2)\n",
      "memory usage: 52.1+ KB\n"
     ]
    }
   ],
   "source": [
    "stores.info()"
   ]
  },
  {
   "cell_type": "markdown",
   "id": "396cdbe1-dac1-4faf-9237-004633e06769",
   "metadata": {},
   "source": [
    "### Limpeza e manipulação"
   ]
  },
  {
   "cell_type": "code",
   "execution_count": 180,
   "id": "40842ffb-f0a1-4775-87d1-1bae1fb03a51",
   "metadata": {},
   "outputs": [
    {
     "data": {
      "text/html": [
       "<div>\n",
       "<style scoped>\n",
       "    .dataframe tbody tr th:only-of-type {\n",
       "        vertical-align: middle;\n",
       "    }\n",
       "\n",
       "    .dataframe tbody tr th {\n",
       "        vertical-align: top;\n",
       "    }\n",
       "\n",
       "    .dataframe thead th {\n",
       "        text-align: right;\n",
       "    }\n",
       "</style>\n",
       "<table border=\"1\" class=\"dataframe\">\n",
       "  <thead>\n",
       "    <tr style=\"text-align: right;\">\n",
       "      <th></th>\n",
       "      <th>store_id</th>\n",
       "      <th>hub_id</th>\n",
       "      <th>store_segment</th>\n",
       "    </tr>\n",
       "  </thead>\n",
       "  <tbody>\n",
       "    <tr>\n",
       "      <th>0</th>\n",
       "      <td>3</td>\n",
       "      <td>2</td>\n",
       "      <td>FOOD</td>\n",
       "    </tr>\n",
       "    <tr>\n",
       "      <th>1</th>\n",
       "      <td>6</td>\n",
       "      <td>3</td>\n",
       "      <td>FOOD</td>\n",
       "    </tr>\n",
       "    <tr>\n",
       "      <th>2</th>\n",
       "      <td>8</td>\n",
       "      <td>3</td>\n",
       "      <td>FOOD</td>\n",
       "    </tr>\n",
       "    <tr>\n",
       "      <th>3</th>\n",
       "      <td>53</td>\n",
       "      <td>8</td>\n",
       "      <td>FOOD</td>\n",
       "    </tr>\n",
       "    <tr>\n",
       "      <th>4</th>\n",
       "      <td>54</td>\n",
       "      <td>8</td>\n",
       "      <td>FOOD</td>\n",
       "    </tr>\n",
       "  </tbody>\n",
       "</table>\n",
       "</div>"
      ],
      "text/plain": [
       "   store_id  hub_id store_segment\n",
       "0         3       2          FOOD\n",
       "1         6       3          FOOD\n",
       "2         8       3          FOOD\n",
       "3        53       8          FOOD\n",
       "4        54       8          FOOD"
      ]
     },
     "execution_count": 180,
     "metadata": {},
     "output_type": "execute_result"
    }
   ],
   "source": [
    "stores = stores[['store_id', 'hub_id', 'store_segment']]\n",
    "stores.head()"
   ]
  },
  {
   "cell_type": "markdown",
   "id": "6d186083-ef4c-4dce-ac6a-3920d2d1dea0",
   "metadata": {},
   "source": [
    "## 2.7. Criando um dataset unificado"
   ]
  },
  {
   "cell_type": "markdown",
   "id": "32d5a3f4-7148-4184-a6b9-0f012ab89fdf",
   "metadata": {},
   "source": [
    "### Os critérios e ajustes para unir orders, deliveries e payments\n",
    "\n",
    "O caminho que vou seguir é o seguinte: cada **pedido (order)**, segue para **entrega (deliveries_clean)** e ao final recebe um **pagamento (payments_clean)**."
   ]
  },
  {
   "cell_type": "code",
   "execution_count": 181,
   "id": "4a67ed69-e3c2-4877-87e7-72ff13cff7a5",
   "metadata": {},
   "outputs": [
    {
     "data": {
      "text/html": [
       "<div>\n",
       "<style scoped>\n",
       "    .dataframe tbody tr th:only-of-type {\n",
       "        vertical-align: middle;\n",
       "    }\n",
       "\n",
       "    .dataframe tbody tr th {\n",
       "        vertical-align: top;\n",
       "    }\n",
       "\n",
       "    .dataframe thead th {\n",
       "        text-align: right;\n",
       "    }\n",
       "</style>\n",
       "<table border=\"1\" class=\"dataframe\">\n",
       "  <thead>\n",
       "    <tr style=\"text-align: right;\">\n",
       "      <th></th>\n",
       "      <th>order_id</th>\n",
       "      <th>store_id</th>\n",
       "      <th>payment_order_id</th>\n",
       "      <th>delivery_order_id</th>\n",
       "      <th>order_status</th>\n",
       "      <th>order_date</th>\n",
       "    </tr>\n",
       "  </thead>\n",
       "  <tbody>\n",
       "    <tr>\n",
       "      <th>8</th>\n",
       "      <td>68410055</td>\n",
       "      <td>2181</td>\n",
       "      <td>68410055</td>\n",
       "      <td>68410055</td>\n",
       "      <td>FINISHED</td>\n",
       "      <td>2021-01-01</td>\n",
       "    </tr>\n",
       "  </tbody>\n",
       "</table>\n",
       "</div>"
      ],
      "text/plain": [
       "   order_id  store_id  payment_order_id  delivery_order_id order_status  \\\n",
       "8  68410055      2181          68410055           68410055     FINISHED   \n",
       "\n",
       "  order_date  \n",
       "8 2021-01-01  "
      ]
     },
     "execution_count": 181,
     "metadata": {},
     "output_type": "execute_result"
    }
   ],
   "source": [
    "orders.head(1)"
   ]
  },
  {
   "cell_type": "code",
   "execution_count": 182,
   "id": "74b1d57d-41c7-4eba-99b2-bd937ad17ff7",
   "metadata": {},
   "outputs": [
    {
     "data": {
      "text/html": [
       "<div>\n",
       "<style scoped>\n",
       "    .dataframe tbody tr th:only-of-type {\n",
       "        vertical-align: middle;\n",
       "    }\n",
       "\n",
       "    .dataframe tbody tr th {\n",
       "        vertical-align: top;\n",
       "    }\n",
       "\n",
       "    .dataframe thead th {\n",
       "        text-align: right;\n",
       "    }\n",
       "</style>\n",
       "<table border=\"1\" class=\"dataframe\">\n",
       "  <thead>\n",
       "    <tr style=\"text-align: right;\">\n",
       "      <th></th>\n",
       "      <th>delivery_id</th>\n",
       "      <th>delivery_order_id</th>\n",
       "      <th>driver_id</th>\n",
       "      <th>delivery_distance_meters</th>\n",
       "      <th>delivery_status</th>\n",
       "    </tr>\n",
       "  </thead>\n",
       "  <tbody>\n",
       "    <tr>\n",
       "      <th>0</th>\n",
       "      <td>2174658</td>\n",
       "      <td>68413340</td>\n",
       "      <td>8378.0</td>\n",
       "      <td>5199.0</td>\n",
       "      <td>DELIVERED</td>\n",
       "    </tr>\n",
       "  </tbody>\n",
       "</table>\n",
       "</div>"
      ],
      "text/plain": [
       "   delivery_id  delivery_order_id  driver_id  delivery_distance_meters  \\\n",
       "0      2174658           68413340     8378.0                    5199.0   \n",
       "\n",
       "  delivery_status  \n",
       "0       DELIVERED  "
      ]
     },
     "execution_count": 182,
     "metadata": {},
     "output_type": "execute_result"
    }
   ],
   "source": [
    "deliveries_clean.head(1)"
   ]
  },
  {
   "cell_type": "code",
   "execution_count": 183,
   "id": "61921201-999d-4582-b46f-479c259a64e8",
   "metadata": {},
   "outputs": [
    {
     "data": {
      "text/html": [
       "<div>\n",
       "<style scoped>\n",
       "    .dataframe tbody tr th:only-of-type {\n",
       "        vertical-align: middle;\n",
       "    }\n",
       "\n",
       "    .dataframe tbody tr th {\n",
       "        vertical-align: top;\n",
       "    }\n",
       "\n",
       "    .dataframe thead th {\n",
       "        text-align: right;\n",
       "    }\n",
       "</style>\n",
       "<table border=\"1\" class=\"dataframe\">\n",
       "  <thead>\n",
       "    <tr style=\"text-align: right;\">\n",
       "      <th></th>\n",
       "      <th>payment_id</th>\n",
       "      <th>payment_order_id</th>\n",
       "      <th>payment_amount</th>\n",
       "      <th>payment_fee</th>\n",
       "      <th>payment_method</th>\n",
       "      <th>payment_status</th>\n",
       "    </tr>\n",
       "  </thead>\n",
       "  <tbody>\n",
       "    <tr>\n",
       "      <th>0</th>\n",
       "      <td>4427917</td>\n",
       "      <td>68410055</td>\n",
       "      <td>118.44</td>\n",
       "      <td>0.0</td>\n",
       "      <td>VOUCHER</td>\n",
       "      <td>PAID</td>\n",
       "    </tr>\n",
       "  </tbody>\n",
       "</table>\n",
       "</div>"
      ],
      "text/plain": [
       "   payment_id  payment_order_id  payment_amount  payment_fee payment_method  \\\n",
       "0     4427917          68410055          118.44          0.0        VOUCHER   \n",
       "\n",
       "  payment_status  \n",
       "0           PAID  "
      ]
     },
     "execution_count": 183,
     "metadata": {},
     "output_type": "execute_result"
    }
   ],
   "source": [
    "payments_clean.head(1)"
   ]
  },
  {
   "cell_type": "code",
   "execution_count": 184,
   "id": "4b391d1e-b687-4b3c-a7ec-ecbfaa63c400",
   "metadata": {},
   "outputs": [
    {
     "data": {
      "text/html": [
       "<div>\n",
       "<style scoped>\n",
       "    .dataframe tbody tr th:only-of-type {\n",
       "        vertical-align: middle;\n",
       "    }\n",
       "\n",
       "    .dataframe tbody tr th {\n",
       "        vertical-align: top;\n",
       "    }\n",
       "\n",
       "    .dataframe thead th {\n",
       "        text-align: right;\n",
       "    }\n",
       "</style>\n",
       "<table border=\"1\" class=\"dataframe\">\n",
       "  <thead>\n",
       "    <tr style=\"text-align: right;\">\n",
       "      <th></th>\n",
       "      <th>payment_id</th>\n",
       "      <th>payment_order_id</th>\n",
       "      <th>payment_amount</th>\n",
       "      <th>payment_fee</th>\n",
       "    </tr>\n",
       "  </thead>\n",
       "  <tbody>\n",
       "    <tr>\n",
       "      <th>0</th>\n",
       "      <td>4427917</td>\n",
       "      <td>68410055</td>\n",
       "      <td>118.44</td>\n",
       "      <td>0.00</td>\n",
       "    </tr>\n",
       "    <tr>\n",
       "      <th>2</th>\n",
       "      <td>4427941</td>\n",
       "      <td>68412721</td>\n",
       "      <td>206.95</td>\n",
       "      <td>5.59</td>\n",
       "    </tr>\n",
       "    <tr>\n",
       "      <th>3</th>\n",
       "      <td>4427948</td>\n",
       "      <td>68413340</td>\n",
       "      <td>58.80</td>\n",
       "      <td>1.59</td>\n",
       "    </tr>\n",
       "    <tr>\n",
       "      <th>4</th>\n",
       "      <td>4427955</td>\n",
       "      <td>68414018</td>\n",
       "      <td>45.80</td>\n",
       "      <td>0.92</td>\n",
       "    </tr>\n",
       "    <tr>\n",
       "      <th>5</th>\n",
       "      <td>4427956</td>\n",
       "      <td>68414309</td>\n",
       "      <td>106.80</td>\n",
       "      <td>2.88</td>\n",
       "    </tr>\n",
       "  </tbody>\n",
       "</table>\n",
       "</div>"
      ],
      "text/plain": [
       "   payment_id  payment_order_id  payment_amount  payment_fee\n",
       "0     4427917          68410055          118.44         0.00\n",
       "2     4427941          68412721          206.95         5.59\n",
       "3     4427948          68413340           58.80         1.59\n",
       "4     4427955          68414018           45.80         0.92\n",
       "5     4427956          68414309          106.80         2.88"
      ]
     },
     "execution_count": 184,
     "metadata": {},
     "output_type": "execute_result"
    }
   ],
   "source": [
    "# Ajustando payments, e criando a coluna order_revenue\n",
    "\n",
    "payments_clean = payments_clean[['payment_id', 'payment_order_id', 'payment_amount', 'payment_fee']]\n",
    "payments_clean.head()"
   ]
  },
  {
   "cell_type": "code",
   "execution_count": 185,
   "id": "bb8510f9-9057-456d-9ceb-1b2518f31969",
   "metadata": {},
   "outputs": [
    {
     "data": {
      "text/html": [
       "<div>\n",
       "<style scoped>\n",
       "    .dataframe tbody tr th:only-of-type {\n",
       "        vertical-align: middle;\n",
       "    }\n",
       "\n",
       "    .dataframe tbody tr th {\n",
       "        vertical-align: top;\n",
       "    }\n",
       "\n",
       "    .dataframe thead th {\n",
       "        text-align: right;\n",
       "    }\n",
       "</style>\n",
       "<table border=\"1\" class=\"dataframe\">\n",
       "  <thead>\n",
       "    <tr style=\"text-align: right;\">\n",
       "      <th></th>\n",
       "      <th>payment_id</th>\n",
       "      <th>payment_order_id</th>\n",
       "      <th>payment_amount</th>\n",
       "      <th>payment_fee</th>\n",
       "      <th>order_revenue</th>\n",
       "    </tr>\n",
       "  </thead>\n",
       "  <tbody>\n",
       "    <tr>\n",
       "      <th>0</th>\n",
       "      <td>4427917</td>\n",
       "      <td>68410055</td>\n",
       "      <td>118.44</td>\n",
       "      <td>0.00</td>\n",
       "      <td>12.7660</td>\n",
       "    </tr>\n",
       "    <tr>\n",
       "      <th>2</th>\n",
       "      <td>4427941</td>\n",
       "      <td>68412721</td>\n",
       "      <td>206.95</td>\n",
       "      <td>5.59</td>\n",
       "      <td>25.2040</td>\n",
       "    </tr>\n",
       "    <tr>\n",
       "      <th>3</th>\n",
       "      <td>4427948</td>\n",
       "      <td>68413340</td>\n",
       "      <td>58.80</td>\n",
       "      <td>1.59</td>\n",
       "      <td>3.5815</td>\n",
       "    </tr>\n",
       "    <tr>\n",
       "      <th>4</th>\n",
       "      <td>4427955</td>\n",
       "      <td>68414018</td>\n",
       "      <td>45.80</td>\n",
       "      <td>0.92</td>\n",
       "      <td>1.7320</td>\n",
       "    </tr>\n",
       "    <tr>\n",
       "      <th>5</th>\n",
       "      <td>4427956</td>\n",
       "      <td>68414309</td>\n",
       "      <td>106.80</td>\n",
       "      <td>2.88</td>\n",
       "      <td>10.5880</td>\n",
       "    </tr>\n",
       "  </tbody>\n",
       "</table>\n",
       "</div>"
      ],
      "text/plain": [
       "   payment_id  payment_order_id  payment_amount  payment_fee  order_revenue\n",
       "0     4427917          68410055          118.44         0.00        12.7660\n",
       "2     4427941          68412721          206.95         5.59        25.2040\n",
       "3     4427948          68413340           58.80         1.59         3.5815\n",
       "4     4427955          68414018           45.80         0.92         1.7320\n",
       "5     4427956          68414309          106.80         2.88        10.5880"
      ]
     },
     "execution_count": 185,
     "metadata": {},
     "output_type": "execute_result"
    }
   ],
   "source": [
    "payments_clean['order_revenue'] = ((payments_clean['payment_amount'] - payments_clean['payment_fee']) * 0.15) - 5\n",
    "payments_clean.head()"
   ]
  },
  {
   "cell_type": "markdown",
   "id": "17d02877-133f-4cad-800b-7988f5ee1efa",
   "metadata": {},
   "source": [
    "### Unindo orders, deliveries e payments"
   ]
  },
  {
   "cell_type": "code",
   "execution_count": 186,
   "id": "f73274d3-5d7b-464f-846d-a4504c08164b",
   "metadata": {},
   "outputs": [
    {
     "data": {
      "text/html": [
       "<div>\n",
       "<style scoped>\n",
       "    .dataframe tbody tr th:only-of-type {\n",
       "        vertical-align: middle;\n",
       "    }\n",
       "\n",
       "    .dataframe tbody tr th {\n",
       "        vertical-align: top;\n",
       "    }\n",
       "\n",
       "    .dataframe thead th {\n",
       "        text-align: right;\n",
       "    }\n",
       "</style>\n",
       "<table border=\"1\" class=\"dataframe\">\n",
       "  <thead>\n",
       "    <tr style=\"text-align: right;\">\n",
       "      <th></th>\n",
       "      <th>order_id</th>\n",
       "      <th>store_id</th>\n",
       "      <th>payment_order_id</th>\n",
       "      <th>delivery_order_id</th>\n",
       "      <th>order_status</th>\n",
       "      <th>order_date</th>\n",
       "      <th>delivery_id</th>\n",
       "      <th>driver_id</th>\n",
       "      <th>delivery_distance_meters</th>\n",
       "      <th>delivery_status</th>\n",
       "    </tr>\n",
       "  </thead>\n",
       "  <tbody>\n",
       "    <tr>\n",
       "      <th>0</th>\n",
       "      <td>68410055</td>\n",
       "      <td>2181</td>\n",
       "      <td>68410055</td>\n",
       "      <td>68410055</td>\n",
       "      <td>FINISHED</td>\n",
       "      <td>2021-01-01</td>\n",
       "      <td>2180133</td>\n",
       "      <td>10239.0</td>\n",
       "      <td>1035.0</td>\n",
       "      <td>DELIVERED</td>\n",
       "    </tr>\n",
       "    <tr>\n",
       "      <th>1</th>\n",
       "      <td>68412721</td>\n",
       "      <td>631</td>\n",
       "      <td>68412721</td>\n",
       "      <td>68412721</td>\n",
       "      <td>FINISHED</td>\n",
       "      <td>2021-01-01</td>\n",
       "      <td>2174663</td>\n",
       "      <td>8378.0</td>\n",
       "      <td>5714.0</td>\n",
       "      <td>DELIVERED</td>\n",
       "    </tr>\n",
       "    <tr>\n",
       "      <th>2</th>\n",
       "      <td>68413340</td>\n",
       "      <td>631</td>\n",
       "      <td>68413340</td>\n",
       "      <td>68413340</td>\n",
       "      <td>FINISHED</td>\n",
       "      <td>2021-01-01</td>\n",
       "      <td>2174658</td>\n",
       "      <td>8378.0</td>\n",
       "      <td>5199.0</td>\n",
       "      <td>DELIVERED</td>\n",
       "    </tr>\n",
       "    <tr>\n",
       "      <th>3</th>\n",
       "      <td>68414018</td>\n",
       "      <td>3265</td>\n",
       "      <td>68414018</td>\n",
       "      <td>68414018</td>\n",
       "      <td>FINISHED</td>\n",
       "      <td>2021-01-01</td>\n",
       "      <td>2174675</td>\n",
       "      <td>10463.0</td>\n",
       "      <td>3746.0</td>\n",
       "      <td>DELIVERED</td>\n",
       "    </tr>\n",
       "    <tr>\n",
       "      <th>4</th>\n",
       "      <td>68414309</td>\n",
       "      <td>236</td>\n",
       "      <td>68414309</td>\n",
       "      <td>68414309</td>\n",
       "      <td>FINISHED</td>\n",
       "      <td>2021-01-01</td>\n",
       "      <td>2174660</td>\n",
       "      <td>2473.0</td>\n",
       "      <td>410.0</td>\n",
       "      <td>DELIVERED</td>\n",
       "    </tr>\n",
       "  </tbody>\n",
       "</table>\n",
       "</div>"
      ],
      "text/plain": [
       "   order_id  store_id  payment_order_id  delivery_order_id order_status  \\\n",
       "0  68410055      2181          68410055           68410055     FINISHED   \n",
       "1  68412721       631          68412721           68412721     FINISHED   \n",
       "2  68413340       631          68413340           68413340     FINISHED   \n",
       "3  68414018      3265          68414018           68414018     FINISHED   \n",
       "4  68414309       236          68414309           68414309     FINISHED   \n",
       "\n",
       "  order_date  delivery_id  driver_id  delivery_distance_meters delivery_status  \n",
       "0 2021-01-01      2180133    10239.0                    1035.0       DELIVERED  \n",
       "1 2021-01-01      2174663     8378.0                    5714.0       DELIVERED  \n",
       "2 2021-01-01      2174658     8378.0                    5199.0       DELIVERED  \n",
       "3 2021-01-01      2174675    10463.0                    3746.0       DELIVERED  \n",
       "4 2021-01-01      2174660     2473.0                     410.0       DELIVERED  "
      ]
     },
     "execution_count": 186,
     "metadata": {},
     "output_type": "execute_result"
    }
   ],
   "source": [
    "df = orders.merge(deliveries_clean, on = 'delivery_order_id', how = 'inner')\n",
    "df.head()"
   ]
  },
  {
   "cell_type": "code",
   "execution_count": 187,
   "id": "c0c8e9b6-8e11-4ca6-8f99-ec8e8b77d19a",
   "metadata": {},
   "outputs": [
    {
     "data": {
      "text/plain": [
       "order_id                    0\n",
       "store_id                    0\n",
       "payment_order_id            0\n",
       "delivery_order_id           0\n",
       "order_status                0\n",
       "order_date                  0\n",
       "delivery_id                 0\n",
       "driver_id                   0\n",
       "delivery_distance_meters    0\n",
       "delivery_status             0\n",
       "dtype: int64"
      ]
     },
     "execution_count": 187,
     "metadata": {},
     "output_type": "execute_result"
    }
   ],
   "source": [
    "df.isna().sum()"
   ]
  },
  {
   "cell_type": "code",
   "execution_count": 188,
   "id": "3ef7f707-6d9e-41bb-ab9d-945481b67032",
   "metadata": {},
   "outputs": [
    {
     "data": {
      "text/plain": [
       "0"
      ]
     },
     "execution_count": 188,
     "metadata": {},
     "output_type": "execute_result"
    }
   ],
   "source": [
    "df.duplicated().sum()"
   ]
  },
  {
   "cell_type": "code",
   "execution_count": 189,
   "id": "c6ffa6a3-aacf-46f3-8bf2-d3e439fdb19d",
   "metadata": {},
   "outputs": [
    {
     "data": {
      "text/html": [
       "<div>\n",
       "<style scoped>\n",
       "    .dataframe tbody tr th:only-of-type {\n",
       "        vertical-align: middle;\n",
       "    }\n",
       "\n",
       "    .dataframe tbody tr th {\n",
       "        vertical-align: top;\n",
       "    }\n",
       "\n",
       "    .dataframe thead th {\n",
       "        text-align: right;\n",
       "    }\n",
       "</style>\n",
       "<table border=\"1\" class=\"dataframe\">\n",
       "  <thead>\n",
       "    <tr style=\"text-align: right;\">\n",
       "      <th></th>\n",
       "      <th>order_id</th>\n",
       "      <th>store_id</th>\n",
       "      <th>payment_order_id</th>\n",
       "      <th>delivery_order_id</th>\n",
       "      <th>order_status</th>\n",
       "      <th>order_date</th>\n",
       "      <th>delivery_id</th>\n",
       "      <th>driver_id</th>\n",
       "      <th>delivery_distance_meters</th>\n",
       "      <th>delivery_status</th>\n",
       "      <th>payment_id</th>\n",
       "      <th>payment_amount</th>\n",
       "      <th>payment_fee</th>\n",
       "      <th>order_revenue</th>\n",
       "    </tr>\n",
       "  </thead>\n",
       "  <tbody>\n",
       "    <tr>\n",
       "      <th>0</th>\n",
       "      <td>68410055</td>\n",
       "      <td>2181</td>\n",
       "      <td>68410055</td>\n",
       "      <td>68410055</td>\n",
       "      <td>FINISHED</td>\n",
       "      <td>2021-01-01</td>\n",
       "      <td>2180133</td>\n",
       "      <td>10239.0</td>\n",
       "      <td>1035.0</td>\n",
       "      <td>DELIVERED</td>\n",
       "      <td>4427917</td>\n",
       "      <td>118.44</td>\n",
       "      <td>0.00</td>\n",
       "      <td>12.7660</td>\n",
       "    </tr>\n",
       "    <tr>\n",
       "      <th>1</th>\n",
       "      <td>68412721</td>\n",
       "      <td>631</td>\n",
       "      <td>68412721</td>\n",
       "      <td>68412721</td>\n",
       "      <td>FINISHED</td>\n",
       "      <td>2021-01-01</td>\n",
       "      <td>2174663</td>\n",
       "      <td>8378.0</td>\n",
       "      <td>5714.0</td>\n",
       "      <td>DELIVERED</td>\n",
       "      <td>4427941</td>\n",
       "      <td>206.95</td>\n",
       "      <td>5.59</td>\n",
       "      <td>25.2040</td>\n",
       "    </tr>\n",
       "    <tr>\n",
       "      <th>2</th>\n",
       "      <td>68413340</td>\n",
       "      <td>631</td>\n",
       "      <td>68413340</td>\n",
       "      <td>68413340</td>\n",
       "      <td>FINISHED</td>\n",
       "      <td>2021-01-01</td>\n",
       "      <td>2174658</td>\n",
       "      <td>8378.0</td>\n",
       "      <td>5199.0</td>\n",
       "      <td>DELIVERED</td>\n",
       "      <td>4427948</td>\n",
       "      <td>58.80</td>\n",
       "      <td>1.59</td>\n",
       "      <td>3.5815</td>\n",
       "    </tr>\n",
       "    <tr>\n",
       "      <th>3</th>\n",
       "      <td>68414018</td>\n",
       "      <td>3265</td>\n",
       "      <td>68414018</td>\n",
       "      <td>68414018</td>\n",
       "      <td>FINISHED</td>\n",
       "      <td>2021-01-01</td>\n",
       "      <td>2174675</td>\n",
       "      <td>10463.0</td>\n",
       "      <td>3746.0</td>\n",
       "      <td>DELIVERED</td>\n",
       "      <td>4427955</td>\n",
       "      <td>45.80</td>\n",
       "      <td>0.92</td>\n",
       "      <td>1.7320</td>\n",
       "    </tr>\n",
       "    <tr>\n",
       "      <th>4</th>\n",
       "      <td>68414309</td>\n",
       "      <td>236</td>\n",
       "      <td>68414309</td>\n",
       "      <td>68414309</td>\n",
       "      <td>FINISHED</td>\n",
       "      <td>2021-01-01</td>\n",
       "      <td>2174660</td>\n",
       "      <td>2473.0</td>\n",
       "      <td>410.0</td>\n",
       "      <td>DELIVERED</td>\n",
       "      <td>4427956</td>\n",
       "      <td>106.80</td>\n",
       "      <td>2.88</td>\n",
       "      <td>10.5880</td>\n",
       "    </tr>\n",
       "  </tbody>\n",
       "</table>\n",
       "</div>"
      ],
      "text/plain": [
       "   order_id  store_id  payment_order_id  delivery_order_id order_status  \\\n",
       "0  68410055      2181          68410055           68410055     FINISHED   \n",
       "1  68412721       631          68412721           68412721     FINISHED   \n",
       "2  68413340       631          68413340           68413340     FINISHED   \n",
       "3  68414018      3265          68414018           68414018     FINISHED   \n",
       "4  68414309       236          68414309           68414309     FINISHED   \n",
       "\n",
       "  order_date  delivery_id  driver_id  delivery_distance_meters  \\\n",
       "0 2021-01-01      2180133    10239.0                    1035.0   \n",
       "1 2021-01-01      2174663     8378.0                    5714.0   \n",
       "2 2021-01-01      2174658     8378.0                    5199.0   \n",
       "3 2021-01-01      2174675    10463.0                    3746.0   \n",
       "4 2021-01-01      2174660     2473.0                     410.0   \n",
       "\n",
       "  delivery_status  payment_id  payment_amount  payment_fee  order_revenue  \n",
       "0       DELIVERED     4427917          118.44         0.00        12.7660  \n",
       "1       DELIVERED     4427941          206.95         5.59        25.2040  \n",
       "2       DELIVERED     4427948           58.80         1.59         3.5815  \n",
       "3       DELIVERED     4427955           45.80         0.92         1.7320  \n",
       "4       DELIVERED     4427956          106.80         2.88        10.5880  "
      ]
     },
     "execution_count": 189,
     "metadata": {},
     "output_type": "execute_result"
    }
   ],
   "source": [
    "df = df.merge(payments_clean, on = 'payment_order_id', how = 'inner')\n",
    "df.head()"
   ]
  },
  {
   "cell_type": "code",
   "execution_count": 190,
   "id": "20ec3dc0-8679-49ec-ba8f-1a50a8c9cd96",
   "metadata": {},
   "outputs": [
    {
     "data": {
      "text/plain": [
       "order_id                    0\n",
       "store_id                    0\n",
       "payment_order_id            0\n",
       "delivery_order_id           0\n",
       "order_status                0\n",
       "order_date                  0\n",
       "delivery_id                 0\n",
       "driver_id                   0\n",
       "delivery_distance_meters    0\n",
       "delivery_status             0\n",
       "payment_id                  0\n",
       "payment_amount              0\n",
       "payment_fee                 0\n",
       "order_revenue               0\n",
       "dtype: int64"
      ]
     },
     "execution_count": 190,
     "metadata": {},
     "output_type": "execute_result"
    }
   ],
   "source": [
    "df.isna().sum()"
   ]
  },
  {
   "cell_type": "code",
   "execution_count": 191,
   "id": "26237cc1-42f0-4f09-a886-c869d78d695b",
   "metadata": {},
   "outputs": [
    {
     "data": {
      "text/plain": [
       "0"
      ]
     },
     "execution_count": 191,
     "metadata": {},
     "output_type": "execute_result"
    }
   ],
   "source": [
    "df.duplicated().sum()"
   ]
  },
  {
   "cell_type": "markdown",
   "id": "46a1d21a-2fc1-4e15-88f2-89378b67ebb3",
   "metadata": {},
   "source": [
    "### Unindo hubs, stores e drivers"
   ]
  },
  {
   "cell_type": "code",
   "execution_count": 192,
   "id": "973b4b0f-7e9d-4a9a-a1e1-c1916db5a409",
   "metadata": {},
   "outputs": [
    {
     "data": {
      "text/html": [
       "<div>\n",
       "<style scoped>\n",
       "    .dataframe tbody tr th:only-of-type {\n",
       "        vertical-align: middle;\n",
       "    }\n",
       "\n",
       "    .dataframe tbody tr th {\n",
       "        vertical-align: top;\n",
       "    }\n",
       "\n",
       "    .dataframe thead th {\n",
       "        text-align: right;\n",
       "    }\n",
       "</style>\n",
       "<table border=\"1\" class=\"dataframe\">\n",
       "  <thead>\n",
       "    <tr style=\"text-align: right;\">\n",
       "      <th></th>\n",
       "      <th>order_id</th>\n",
       "      <th>store_id</th>\n",
       "      <th>payment_order_id</th>\n",
       "      <th>delivery_order_id</th>\n",
       "      <th>order_status</th>\n",
       "      <th>order_date</th>\n",
       "      <th>delivery_id</th>\n",
       "      <th>driver_id</th>\n",
       "      <th>delivery_distance_meters</th>\n",
       "      <th>delivery_status</th>\n",
       "      <th>payment_id</th>\n",
       "      <th>payment_amount</th>\n",
       "      <th>payment_fee</th>\n",
       "      <th>order_revenue</th>\n",
       "      <th>driver_modal</th>\n",
       "    </tr>\n",
       "  </thead>\n",
       "  <tbody>\n",
       "    <tr>\n",
       "      <th>0</th>\n",
       "      <td>68410055</td>\n",
       "      <td>2181</td>\n",
       "      <td>68410055</td>\n",
       "      <td>68410055</td>\n",
       "      <td>FINISHED</td>\n",
       "      <td>2021-01-01</td>\n",
       "      <td>2180133</td>\n",
       "      <td>10239.0</td>\n",
       "      <td>1035.0</td>\n",
       "      <td>DELIVERED</td>\n",
       "      <td>4427917</td>\n",
       "      <td>118.44</td>\n",
       "      <td>0.00</td>\n",
       "      <td>12.7660</td>\n",
       "      <td>BIKER</td>\n",
       "    </tr>\n",
       "    <tr>\n",
       "      <th>1</th>\n",
       "      <td>68627002</td>\n",
       "      <td>236</td>\n",
       "      <td>68627002</td>\n",
       "      <td>68627002</td>\n",
       "      <td>FINISHED</td>\n",
       "      <td>2021-01-02</td>\n",
       "      <td>2178772</td>\n",
       "      <td>10239.0</td>\n",
       "      <td>802.0</td>\n",
       "      <td>DELIVERED</td>\n",
       "      <td>4432396</td>\n",
       "      <td>147.60</td>\n",
       "      <td>3.99</td>\n",
       "      <td>16.5415</td>\n",
       "      <td>BIKER</td>\n",
       "    </tr>\n",
       "    <tr>\n",
       "      <th>2</th>\n",
       "      <td>68709624</td>\n",
       "      <td>1153</td>\n",
       "      <td>68709624</td>\n",
       "      <td>68709624</td>\n",
       "      <td>FINISHED</td>\n",
       "      <td>2021-01-02</td>\n",
       "      <td>2181160</td>\n",
       "      <td>10239.0</td>\n",
       "      <td>1211.0</td>\n",
       "      <td>DELIVERED</td>\n",
       "      <td>4435176</td>\n",
       "      <td>89.50</td>\n",
       "      <td>1.34</td>\n",
       "      <td>8.2240</td>\n",
       "      <td>BIKER</td>\n",
       "    </tr>\n",
       "    <tr>\n",
       "      <th>3</th>\n",
       "      <td>68785963</td>\n",
       "      <td>3728</td>\n",
       "      <td>68785963</td>\n",
       "      <td>68785963</td>\n",
       "      <td>FINISHED</td>\n",
       "      <td>2021-01-03</td>\n",
       "      <td>2183707</td>\n",
       "      <td>10239.0</td>\n",
       "      <td>417.0</td>\n",
       "      <td>DELIVERED</td>\n",
       "      <td>4438056</td>\n",
       "      <td>20.00</td>\n",
       "      <td>0.30</td>\n",
       "      <td>-2.0450</td>\n",
       "      <td>BIKER</td>\n",
       "    </tr>\n",
       "    <tr>\n",
       "      <th>4</th>\n",
       "      <td>68903420</td>\n",
       "      <td>236</td>\n",
       "      <td>68903420</td>\n",
       "      <td>68903420</td>\n",
       "      <td>FINISHED</td>\n",
       "      <td>2021-01-03</td>\n",
       "      <td>2186937</td>\n",
       "      <td>10239.0</td>\n",
       "      <td>1374.0</td>\n",
       "      <td>DELIVERED</td>\n",
       "      <td>4441343</td>\n",
       "      <td>91.80</td>\n",
       "      <td>2.48</td>\n",
       "      <td>8.3980</td>\n",
       "      <td>BIKER</td>\n",
       "    </tr>\n",
       "  </tbody>\n",
       "</table>\n",
       "</div>"
      ],
      "text/plain": [
       "   order_id  store_id  payment_order_id  delivery_order_id order_status  \\\n",
       "0  68410055      2181          68410055           68410055     FINISHED   \n",
       "1  68627002       236          68627002           68627002     FINISHED   \n",
       "2  68709624      1153          68709624           68709624     FINISHED   \n",
       "3  68785963      3728          68785963           68785963     FINISHED   \n",
       "4  68903420       236          68903420           68903420     FINISHED   \n",
       "\n",
       "  order_date  delivery_id  driver_id  delivery_distance_meters  \\\n",
       "0 2021-01-01      2180133    10239.0                    1035.0   \n",
       "1 2021-01-02      2178772    10239.0                     802.0   \n",
       "2 2021-01-02      2181160    10239.0                    1211.0   \n",
       "3 2021-01-03      2183707    10239.0                     417.0   \n",
       "4 2021-01-03      2186937    10239.0                    1374.0   \n",
       "\n",
       "  delivery_status  payment_id  payment_amount  payment_fee  order_revenue  \\\n",
       "0       DELIVERED     4427917          118.44         0.00        12.7660   \n",
       "1       DELIVERED     4432396          147.60         3.99        16.5415   \n",
       "2       DELIVERED     4435176           89.50         1.34         8.2240   \n",
       "3       DELIVERED     4438056           20.00         0.30        -2.0450   \n",
       "4       DELIVERED     4441343           91.80         2.48         8.3980   \n",
       "\n",
       "  driver_modal  \n",
       "0        BIKER  \n",
       "1        BIKER  \n",
       "2        BIKER  \n",
       "3        BIKER  \n",
       "4        BIKER  "
      ]
     },
     "execution_count": 192,
     "metadata": {},
     "output_type": "execute_result"
    }
   ],
   "source": [
    "df = df.merge(drivers, on = 'driver_id', how = 'inner')\n",
    "df.head()"
   ]
  },
  {
   "cell_type": "code",
   "execution_count": 193,
   "id": "2739109d-c7d1-4ac7-b895-dd8d4e1e3d24",
   "metadata": {},
   "outputs": [
    {
     "data": {
      "text/plain": [
       "order_id                    0\n",
       "store_id                    0\n",
       "payment_order_id            0\n",
       "delivery_order_id           0\n",
       "order_status                0\n",
       "order_date                  0\n",
       "delivery_id                 0\n",
       "driver_id                   0\n",
       "delivery_distance_meters    0\n",
       "delivery_status             0\n",
       "payment_id                  0\n",
       "payment_amount              0\n",
       "payment_fee                 0\n",
       "order_revenue               0\n",
       "driver_modal                0\n",
       "dtype: int64"
      ]
     },
     "execution_count": 193,
     "metadata": {},
     "output_type": "execute_result"
    }
   ],
   "source": [
    "df.isna().sum()"
   ]
  },
  {
   "cell_type": "code",
   "execution_count": 194,
   "id": "635b386f-513b-4880-8992-0a0c5b2e0f7c",
   "metadata": {},
   "outputs": [
    {
     "data": {
      "text/plain": [
       "0"
      ]
     },
     "execution_count": 194,
     "metadata": {},
     "output_type": "execute_result"
    }
   ],
   "source": [
    "df.duplicated().sum()"
   ]
  },
  {
   "cell_type": "code",
   "execution_count": 195,
   "id": "9d442e6f-5c0e-4800-a115-1140cc1cce9c",
   "metadata": {},
   "outputs": [
    {
     "data": {
      "text/html": [
       "<div>\n",
       "<style scoped>\n",
       "    .dataframe tbody tr th:only-of-type {\n",
       "        vertical-align: middle;\n",
       "    }\n",
       "\n",
       "    .dataframe tbody tr th {\n",
       "        vertical-align: top;\n",
       "    }\n",
       "\n",
       "    .dataframe thead th {\n",
       "        text-align: right;\n",
       "    }\n",
       "</style>\n",
       "<table border=\"1\" class=\"dataframe\">\n",
       "  <thead>\n",
       "    <tr style=\"text-align: right;\">\n",
       "      <th></th>\n",
       "      <th>order_id</th>\n",
       "      <th>store_id</th>\n",
       "      <th>payment_order_id</th>\n",
       "      <th>delivery_order_id</th>\n",
       "      <th>order_status</th>\n",
       "      <th>order_date</th>\n",
       "      <th>delivery_id</th>\n",
       "      <th>driver_id</th>\n",
       "      <th>delivery_distance_meters</th>\n",
       "      <th>delivery_status</th>\n",
       "      <th>payment_id</th>\n",
       "      <th>payment_amount</th>\n",
       "      <th>payment_fee</th>\n",
       "      <th>order_revenue</th>\n",
       "      <th>driver_modal</th>\n",
       "      <th>hub_id</th>\n",
       "      <th>store_segment</th>\n",
       "    </tr>\n",
       "  </thead>\n",
       "  <tbody>\n",
       "    <tr>\n",
       "      <th>0</th>\n",
       "      <td>68410055</td>\n",
       "      <td>2181</td>\n",
       "      <td>68410055</td>\n",
       "      <td>68410055</td>\n",
       "      <td>FINISHED</td>\n",
       "      <td>2021-01-01</td>\n",
       "      <td>2180133</td>\n",
       "      <td>10239.0</td>\n",
       "      <td>1035.0</td>\n",
       "      <td>DELIVERED</td>\n",
       "      <td>4427917</td>\n",
       "      <td>118.44</td>\n",
       "      <td>0.00</td>\n",
       "      <td>12.7660</td>\n",
       "      <td>BIKER</td>\n",
       "      <td>13</td>\n",
       "      <td>GOOD</td>\n",
       "    </tr>\n",
       "    <tr>\n",
       "      <th>1</th>\n",
       "      <td>70804201</td>\n",
       "      <td>2181</td>\n",
       "      <td>70804201</td>\n",
       "      <td>70804201</td>\n",
       "      <td>FINISHED</td>\n",
       "      <td>2021-01-12</td>\n",
       "      <td>2236161</td>\n",
       "      <td>14059.0</td>\n",
       "      <td>1612.0</td>\n",
       "      <td>DELIVERED</td>\n",
       "      <td>4496318</td>\n",
       "      <td>42.01</td>\n",
       "      <td>0.84</td>\n",
       "      <td>1.1755</td>\n",
       "      <td>BIKER</td>\n",
       "      <td>13</td>\n",
       "      <td>GOOD</td>\n",
       "    </tr>\n",
       "    <tr>\n",
       "      <th>2</th>\n",
       "      <td>85156722</td>\n",
       "      <td>2181</td>\n",
       "      <td>85156722</td>\n",
       "      <td>85156722</td>\n",
       "      <td>FINISHED</td>\n",
       "      <td>2021-03-21</td>\n",
       "      <td>2721137</td>\n",
       "      <td>938.0</td>\n",
       "      <td>422.0</td>\n",
       "      <td>DELIVERED</td>\n",
       "      <td>5041131</td>\n",
       "      <td>89.25</td>\n",
       "      <td>0.00</td>\n",
       "      <td>8.3875</td>\n",
       "      <td>BIKER</td>\n",
       "      <td>13</td>\n",
       "      <td>GOOD</td>\n",
       "    </tr>\n",
       "    <tr>\n",
       "      <th>3</th>\n",
       "      <td>85156722</td>\n",
       "      <td>2181</td>\n",
       "      <td>85156722</td>\n",
       "      <td>85156722</td>\n",
       "      <td>FINISHED</td>\n",
       "      <td>2021-03-21</td>\n",
       "      <td>2721137</td>\n",
       "      <td>938.0</td>\n",
       "      <td>422.0</td>\n",
       "      <td>DELIVERED</td>\n",
       "      <td>5041132</td>\n",
       "      <td>188.40</td>\n",
       "      <td>3.77</td>\n",
       "      <td>22.6945</td>\n",
       "      <td>BIKER</td>\n",
       "      <td>13</td>\n",
       "      <td>GOOD</td>\n",
       "    </tr>\n",
       "    <tr>\n",
       "      <th>4</th>\n",
       "      <td>84573921</td>\n",
       "      <td>2181</td>\n",
       "      <td>84573921</td>\n",
       "      <td>84573921</td>\n",
       "      <td>FINISHED</td>\n",
       "      <td>2021-03-18</td>\n",
       "      <td>2694843</td>\n",
       "      <td>2837.0</td>\n",
       "      <td>5938.0</td>\n",
       "      <td>DELIVERED</td>\n",
       "      <td>5013760</td>\n",
       "      <td>56.65</td>\n",
       "      <td>0.00</td>\n",
       "      <td>3.4975</td>\n",
       "      <td>MOTOBOY</td>\n",
       "      <td>13</td>\n",
       "      <td>GOOD</td>\n",
       "    </tr>\n",
       "  </tbody>\n",
       "</table>\n",
       "</div>"
      ],
      "text/plain": [
       "   order_id  store_id  payment_order_id  delivery_order_id order_status  \\\n",
       "0  68410055      2181          68410055           68410055     FINISHED   \n",
       "1  70804201      2181          70804201           70804201     FINISHED   \n",
       "2  85156722      2181          85156722           85156722     FINISHED   \n",
       "3  85156722      2181          85156722           85156722     FINISHED   \n",
       "4  84573921      2181          84573921           84573921     FINISHED   \n",
       "\n",
       "  order_date  delivery_id  driver_id  delivery_distance_meters  \\\n",
       "0 2021-01-01      2180133    10239.0                    1035.0   \n",
       "1 2021-01-12      2236161    14059.0                    1612.0   \n",
       "2 2021-03-21      2721137      938.0                     422.0   \n",
       "3 2021-03-21      2721137      938.0                     422.0   \n",
       "4 2021-03-18      2694843     2837.0                    5938.0   \n",
       "\n",
       "  delivery_status  payment_id  payment_amount  payment_fee  order_revenue  \\\n",
       "0       DELIVERED     4427917          118.44         0.00        12.7660   \n",
       "1       DELIVERED     4496318           42.01         0.84         1.1755   \n",
       "2       DELIVERED     5041131           89.25         0.00         8.3875   \n",
       "3       DELIVERED     5041132          188.40         3.77        22.6945   \n",
       "4       DELIVERED     5013760           56.65         0.00         3.4975   \n",
       "\n",
       "  driver_modal  hub_id store_segment  \n",
       "0        BIKER      13          GOOD  \n",
       "1        BIKER      13          GOOD  \n",
       "2        BIKER      13          GOOD  \n",
       "3        BIKER      13          GOOD  \n",
       "4      MOTOBOY      13          GOOD  "
      ]
     },
     "execution_count": 195,
     "metadata": {},
     "output_type": "execute_result"
    }
   ],
   "source": [
    "df = df.merge(stores, on = 'store_id', how = 'inner')\n",
    "df.head()"
   ]
  },
  {
   "cell_type": "code",
   "execution_count": 196,
   "id": "4a12d68e-b27f-4d98-bb5b-83055ff28cb3",
   "metadata": {},
   "outputs": [
    {
     "data": {
      "text/plain": [
       "order_id                    0\n",
       "store_id                    0\n",
       "payment_order_id            0\n",
       "delivery_order_id           0\n",
       "order_status                0\n",
       "order_date                  0\n",
       "delivery_id                 0\n",
       "driver_id                   0\n",
       "delivery_distance_meters    0\n",
       "delivery_status             0\n",
       "payment_id                  0\n",
       "payment_amount              0\n",
       "payment_fee                 0\n",
       "order_revenue               0\n",
       "driver_modal                0\n",
       "hub_id                      0\n",
       "store_segment               0\n",
       "dtype: int64"
      ]
     },
     "execution_count": 196,
     "metadata": {},
     "output_type": "execute_result"
    }
   ],
   "source": [
    "df.isna().sum()"
   ]
  },
  {
   "cell_type": "code",
   "execution_count": 197,
   "id": "575f9d1c-9340-4a9b-aed6-53da8919321e",
   "metadata": {},
   "outputs": [
    {
     "data": {
      "text/plain": [
       "0"
      ]
     },
     "execution_count": 197,
     "metadata": {},
     "output_type": "execute_result"
    }
   ],
   "source": [
    "df.duplicated().sum()"
   ]
  },
  {
   "cell_type": "code",
   "execution_count": 198,
   "id": "85d4b555-c8ba-4eeb-92ad-d2703211709b",
   "metadata": {},
   "outputs": [
    {
     "data": {
      "text/html": [
       "<div>\n",
       "<style scoped>\n",
       "    .dataframe tbody tr th:only-of-type {\n",
       "        vertical-align: middle;\n",
       "    }\n",
       "\n",
       "    .dataframe tbody tr th {\n",
       "        vertical-align: top;\n",
       "    }\n",
       "\n",
       "    .dataframe thead th {\n",
       "        text-align: right;\n",
       "    }\n",
       "</style>\n",
       "<table border=\"1\" class=\"dataframe\">\n",
       "  <thead>\n",
       "    <tr style=\"text-align: right;\">\n",
       "      <th></th>\n",
       "      <th>order_id</th>\n",
       "      <th>store_id</th>\n",
       "      <th>payment_order_id</th>\n",
       "      <th>delivery_order_id</th>\n",
       "      <th>order_status</th>\n",
       "      <th>order_date</th>\n",
       "      <th>delivery_id</th>\n",
       "      <th>driver_id</th>\n",
       "      <th>delivery_distance_meters</th>\n",
       "      <th>delivery_status</th>\n",
       "      <th>payment_id</th>\n",
       "      <th>payment_amount</th>\n",
       "      <th>payment_fee</th>\n",
       "      <th>order_revenue</th>\n",
       "      <th>driver_modal</th>\n",
       "      <th>hub_id</th>\n",
       "      <th>store_segment</th>\n",
       "      <th>hub_state</th>\n",
       "    </tr>\n",
       "  </thead>\n",
       "  <tbody>\n",
       "    <tr>\n",
       "      <th>0</th>\n",
       "      <td>68410055</td>\n",
       "      <td>2181</td>\n",
       "      <td>68410055</td>\n",
       "      <td>68410055</td>\n",
       "      <td>FINISHED</td>\n",
       "      <td>2021-01-01</td>\n",
       "      <td>2180133</td>\n",
       "      <td>10239.0</td>\n",
       "      <td>1035.0</td>\n",
       "      <td>DELIVERED</td>\n",
       "      <td>4427917</td>\n",
       "      <td>118.44</td>\n",
       "      <td>0.00</td>\n",
       "      <td>12.7660</td>\n",
       "      <td>BIKER</td>\n",
       "      <td>13</td>\n",
       "      <td>GOOD</td>\n",
       "      <td>RJ</td>\n",
       "    </tr>\n",
       "    <tr>\n",
       "      <th>1</th>\n",
       "      <td>70804201</td>\n",
       "      <td>2181</td>\n",
       "      <td>70804201</td>\n",
       "      <td>70804201</td>\n",
       "      <td>FINISHED</td>\n",
       "      <td>2021-01-12</td>\n",
       "      <td>2236161</td>\n",
       "      <td>14059.0</td>\n",
       "      <td>1612.0</td>\n",
       "      <td>DELIVERED</td>\n",
       "      <td>4496318</td>\n",
       "      <td>42.01</td>\n",
       "      <td>0.84</td>\n",
       "      <td>1.1755</td>\n",
       "      <td>BIKER</td>\n",
       "      <td>13</td>\n",
       "      <td>GOOD</td>\n",
       "      <td>RJ</td>\n",
       "    </tr>\n",
       "    <tr>\n",
       "      <th>2</th>\n",
       "      <td>85156722</td>\n",
       "      <td>2181</td>\n",
       "      <td>85156722</td>\n",
       "      <td>85156722</td>\n",
       "      <td>FINISHED</td>\n",
       "      <td>2021-03-21</td>\n",
       "      <td>2721137</td>\n",
       "      <td>938.0</td>\n",
       "      <td>422.0</td>\n",
       "      <td>DELIVERED</td>\n",
       "      <td>5041131</td>\n",
       "      <td>89.25</td>\n",
       "      <td>0.00</td>\n",
       "      <td>8.3875</td>\n",
       "      <td>BIKER</td>\n",
       "      <td>13</td>\n",
       "      <td>GOOD</td>\n",
       "      <td>RJ</td>\n",
       "    </tr>\n",
       "    <tr>\n",
       "      <th>3</th>\n",
       "      <td>85156722</td>\n",
       "      <td>2181</td>\n",
       "      <td>85156722</td>\n",
       "      <td>85156722</td>\n",
       "      <td>FINISHED</td>\n",
       "      <td>2021-03-21</td>\n",
       "      <td>2721137</td>\n",
       "      <td>938.0</td>\n",
       "      <td>422.0</td>\n",
       "      <td>DELIVERED</td>\n",
       "      <td>5041132</td>\n",
       "      <td>188.40</td>\n",
       "      <td>3.77</td>\n",
       "      <td>22.6945</td>\n",
       "      <td>BIKER</td>\n",
       "      <td>13</td>\n",
       "      <td>GOOD</td>\n",
       "      <td>RJ</td>\n",
       "    </tr>\n",
       "    <tr>\n",
       "      <th>4</th>\n",
       "      <td>84573921</td>\n",
       "      <td>2181</td>\n",
       "      <td>84573921</td>\n",
       "      <td>84573921</td>\n",
       "      <td>FINISHED</td>\n",
       "      <td>2021-03-18</td>\n",
       "      <td>2694843</td>\n",
       "      <td>2837.0</td>\n",
       "      <td>5938.0</td>\n",
       "      <td>DELIVERED</td>\n",
       "      <td>5013760</td>\n",
       "      <td>56.65</td>\n",
       "      <td>0.00</td>\n",
       "      <td>3.4975</td>\n",
       "      <td>MOTOBOY</td>\n",
       "      <td>13</td>\n",
       "      <td>GOOD</td>\n",
       "      <td>RJ</td>\n",
       "    </tr>\n",
       "  </tbody>\n",
       "</table>\n",
       "</div>"
      ],
      "text/plain": [
       "   order_id  store_id  payment_order_id  delivery_order_id order_status  \\\n",
       "0  68410055      2181          68410055           68410055     FINISHED   \n",
       "1  70804201      2181          70804201           70804201     FINISHED   \n",
       "2  85156722      2181          85156722           85156722     FINISHED   \n",
       "3  85156722      2181          85156722           85156722     FINISHED   \n",
       "4  84573921      2181          84573921           84573921     FINISHED   \n",
       "\n",
       "  order_date  delivery_id  driver_id  delivery_distance_meters  \\\n",
       "0 2021-01-01      2180133    10239.0                    1035.0   \n",
       "1 2021-01-12      2236161    14059.0                    1612.0   \n",
       "2 2021-03-21      2721137      938.0                     422.0   \n",
       "3 2021-03-21      2721137      938.0                     422.0   \n",
       "4 2021-03-18      2694843     2837.0                    5938.0   \n",
       "\n",
       "  delivery_status  payment_id  payment_amount  payment_fee  order_revenue  \\\n",
       "0       DELIVERED     4427917          118.44         0.00        12.7660   \n",
       "1       DELIVERED     4496318           42.01         0.84         1.1755   \n",
       "2       DELIVERED     5041131           89.25         0.00         8.3875   \n",
       "3       DELIVERED     5041132          188.40         3.77        22.6945   \n",
       "4       DELIVERED     5013760           56.65         0.00         3.4975   \n",
       "\n",
       "  driver_modal  hub_id store_segment hub_state  \n",
       "0        BIKER      13          GOOD        RJ  \n",
       "1        BIKER      13          GOOD        RJ  \n",
       "2        BIKER      13          GOOD        RJ  \n",
       "3        BIKER      13          GOOD        RJ  \n",
       "4      MOTOBOY      13          GOOD        RJ  "
      ]
     },
     "execution_count": 198,
     "metadata": {},
     "output_type": "execute_result"
    }
   ],
   "source": [
    "df = df.merge(hubs, on = 'hub_id', how = 'inner')\n",
    "df.head()"
   ]
  },
  {
   "cell_type": "code",
   "execution_count": 199,
   "id": "1ec94d80-d2e3-45bb-85f0-99763848f6d3",
   "metadata": {},
   "outputs": [
    {
     "data": {
      "text/plain": [
       "order_id                    0\n",
       "store_id                    0\n",
       "payment_order_id            0\n",
       "delivery_order_id           0\n",
       "order_status                0\n",
       "order_date                  0\n",
       "delivery_id                 0\n",
       "driver_id                   0\n",
       "delivery_distance_meters    0\n",
       "delivery_status             0\n",
       "payment_id                  0\n",
       "payment_amount              0\n",
       "payment_fee                 0\n",
       "order_revenue               0\n",
       "driver_modal                0\n",
       "hub_id                      0\n",
       "store_segment               0\n",
       "hub_state                   0\n",
       "dtype: int64"
      ]
     },
     "execution_count": 199,
     "metadata": {},
     "output_type": "execute_result"
    }
   ],
   "source": [
    "df.isna().sum()"
   ]
  },
  {
   "cell_type": "code",
   "execution_count": 200,
   "id": "a8dfa87c-4c86-4f1e-9230-4cc48c86117d",
   "metadata": {},
   "outputs": [
    {
     "data": {
      "text/plain": [
       "0"
      ]
     },
     "execution_count": 200,
     "metadata": {},
     "output_type": "execute_result"
    }
   ],
   "source": [
    "df.duplicated().sum()"
   ]
  },
  {
   "cell_type": "code",
   "execution_count": 201,
   "id": "d73dc26f-1eaa-4b46-b8f6-542abfd7fae5",
   "metadata": {},
   "outputs": [],
   "source": [
    "df['driver_id'] = df['driver_id'].astype(int)"
   ]
  },
  {
   "cell_type": "code",
   "execution_count": 202,
   "id": "d5db120f-dc11-4d61-a857-bb4f26f92c1b",
   "metadata": {},
   "outputs": [
    {
     "name": "stdout",
     "output_type": "stream",
     "text": [
      "<class 'pandas.core.frame.DataFrame'>\n",
      "RangeIndex: 378714 entries, 0 to 378713\n",
      "Data columns (total 16 columns):\n",
      " #   Column                    Non-Null Count   Dtype         \n",
      "---  ------                    --------------   -----         \n",
      " 0   order_id                  378714 non-null  int64         \n",
      " 1   store_id                  378714 non-null  int64         \n",
      " 2   payment_order_id          378714 non-null  int64         \n",
      " 3   delivery_order_id         378714 non-null  int64         \n",
      " 4   order_status              378714 non-null  object        \n",
      " 5   order_date                378714 non-null  datetime64[ns]\n",
      " 6   delivery_id               378714 non-null  int64         \n",
      " 7   driver_id                 378714 non-null  int32         \n",
      " 8   delivery_distance_meters  378714 non-null  float64       \n",
      " 9   payment_id                378714 non-null  int64         \n",
      " 10  payment_amount            378714 non-null  float64       \n",
      " 11  payment_fee               378714 non-null  float64       \n",
      " 12  order_revenue             378714 non-null  float64       \n",
      " 13  driver_modal              378714 non-null  object        \n",
      " 14  store_segment             378714 non-null  object        \n",
      " 15  hub_state                 378714 non-null  object        \n",
      "dtypes: datetime64[ns](1), float64(4), int32(1), int64(6), object(4)\n",
      "memory usage: 44.8+ MB\n"
     ]
    }
   ],
   "source": [
    "df.drop(columns = ['hub_id', 'delivery_status'], axis = 1, inplace = True)\n",
    "df.reset_index(inplace = True, drop = True)\n",
    "df.info()"
   ]
  },
  {
   "cell_type": "code",
   "execution_count": 203,
   "id": "54f2de3f-1a70-4aa0-b2d4-d5ef72e883fc",
   "metadata": {},
   "outputs": [],
   "source": [
    "# Vou salvar este dataset\n",
    "# Assim outros times podem fazer outras análises e dashboards\n",
    "\n",
    "df.to_csv('../data/ready/dados_limpos.csv')"
   ]
  },
  {
   "cell_type": "markdown",
   "id": "85a22098-01c6-4b46-ac32-d33ebb909de2",
   "metadata": {},
   "source": [
    "# 3. Respondendo as demandas"
   ]
  },
  {
   "cell_type": "markdown",
   "id": "79755cc2-c37a-4c02-946a-15c6e5136f54",
   "metadata": {},
   "source": [
    "## 3.1. Ranking de entregadores"
   ]
  },
  {
   "cell_type": "code",
   "execution_count": 204,
   "id": "c8eb6826-944e-4af7-ab28-65dfd901a46c",
   "metadata": {},
   "outputs": [
    {
     "data": {
      "text/html": [
       "<div>\n",
       "<style scoped>\n",
       "    .dataframe tbody tr th:only-of-type {\n",
       "        vertical-align: middle;\n",
       "    }\n",
       "\n",
       "    .dataframe tbody tr th {\n",
       "        vertical-align: top;\n",
       "    }\n",
       "\n",
       "    .dataframe thead th {\n",
       "        text-align: right;\n",
       "    }\n",
       "</style>\n",
       "<table border=\"1\" class=\"dataframe\">\n",
       "  <thead>\n",
       "    <tr style=\"text-align: right;\">\n",
       "      <th></th>\n",
       "      <th>driver_id</th>\n",
       "      <th>driver_modal</th>\n",
       "      <th>delivery_distance_meters</th>\n",
       "    </tr>\n",
       "  </thead>\n",
       "  <tbody>\n",
       "    <tr>\n",
       "      <th>0</th>\n",
       "      <td>25651</td>\n",
       "      <td>MOTOBOY</td>\n",
       "      <td>33531568.0</td>\n",
       "    </tr>\n",
       "    <tr>\n",
       "      <th>1</th>\n",
       "      <td>26223</td>\n",
       "      <td>MOTOBOY</td>\n",
       "      <td>17549561.0</td>\n",
       "    </tr>\n",
       "    <tr>\n",
       "      <th>2</th>\n",
       "      <td>7615</td>\n",
       "      <td>MOTOBOY</td>\n",
       "      <td>3239427.0</td>\n",
       "    </tr>\n",
       "    <tr>\n",
       "      <th>3</th>\n",
       "      <td>7549</td>\n",
       "      <td>MOTOBOY</td>\n",
       "      <td>2761644.0</td>\n",
       "    </tr>\n",
       "    <tr>\n",
       "      <th>4</th>\n",
       "      <td>9806</td>\n",
       "      <td>MOTOBOY</td>\n",
       "      <td>2757244.0</td>\n",
       "    </tr>\n",
       "    <tr>\n",
       "      <th>...</th>\n",
       "      <td>...</td>\n",
       "      <td>...</td>\n",
       "      <td>...</td>\n",
       "    </tr>\n",
       "    <tr>\n",
       "      <th>4489</th>\n",
       "      <td>42665</td>\n",
       "      <td>BIKER</td>\n",
       "      <td>244.0</td>\n",
       "    </tr>\n",
       "    <tr>\n",
       "      <th>4490</th>\n",
       "      <td>5110</td>\n",
       "      <td>MOTOBOY</td>\n",
       "      <td>171.0</td>\n",
       "    </tr>\n",
       "    <tr>\n",
       "      <th>4491</th>\n",
       "      <td>32545</td>\n",
       "      <td>BIKER</td>\n",
       "      <td>148.0</td>\n",
       "    </tr>\n",
       "    <tr>\n",
       "      <th>4492</th>\n",
       "      <td>40411</td>\n",
       "      <td>BIKER</td>\n",
       "      <td>69.0</td>\n",
       "    </tr>\n",
       "    <tr>\n",
       "      <th>4493</th>\n",
       "      <td>53115</td>\n",
       "      <td>BIKER</td>\n",
       "      <td>34.0</td>\n",
       "    </tr>\n",
       "  </tbody>\n",
       "</table>\n",
       "<p>4494 rows × 3 columns</p>\n",
       "</div>"
      ],
      "text/plain": [
       "      driver_id driver_modal  delivery_distance_meters\n",
       "0         25651      MOTOBOY                33531568.0\n",
       "1         26223      MOTOBOY                17549561.0\n",
       "2          7615      MOTOBOY                 3239427.0\n",
       "3          7549      MOTOBOY                 2761644.0\n",
       "4          9806      MOTOBOY                 2757244.0\n",
       "...         ...          ...                       ...\n",
       "4489      42665        BIKER                     244.0\n",
       "4490       5110      MOTOBOY                     171.0\n",
       "4491      32545        BIKER                     148.0\n",
       "4492      40411        BIKER                      69.0\n",
       "4493      53115        BIKER                      34.0\n",
       "\n",
       "[4494 rows x 3 columns]"
      ]
     },
     "execution_count": 204,
     "metadata": {},
     "output_type": "execute_result"
    }
   ],
   "source": [
    "ranking = df.groupby(['driver_id', 'driver_modal'])['delivery_distance_meters'].sum().sort_values(ascending = False).reset_index()\n",
    "ranking"
   ]
  },
  {
   "cell_type": "code",
   "execution_count": 205,
   "id": "85d7040e-0e54-431f-91b6-1da1fe199564",
   "metadata": {},
   "outputs": [],
   "source": [
    "ranking.to_csv('../data/ready/ranking_entregadores.csv')"
   ]
  },
  {
   "cell_type": "code",
   "execution_count": 206,
   "id": "37ace94c-ac62-426f-a4ac-12879d1eef71",
   "metadata": {},
   "outputs": [
    {
     "data": {
      "text/html": [
       "<div>\n",
       "<style scoped>\n",
       "    .dataframe tbody tr th:only-of-type {\n",
       "        vertical-align: middle;\n",
       "    }\n",
       "\n",
       "    .dataframe tbody tr th {\n",
       "        vertical-align: top;\n",
       "    }\n",
       "\n",
       "    .dataframe thead th {\n",
       "        text-align: right;\n",
       "    }\n",
       "</style>\n",
       "<table border=\"1\" class=\"dataframe\">\n",
       "  <thead>\n",
       "    <tr style=\"text-align: right;\">\n",
       "      <th></th>\n",
       "      <th>driver_id</th>\n",
       "      <th>driver_modal</th>\n",
       "      <th>delivery_distance_meters</th>\n",
       "    </tr>\n",
       "  </thead>\n",
       "  <tbody>\n",
       "    <tr>\n",
       "      <th>0</th>\n",
       "      <td>25651</td>\n",
       "      <td>MOTOBOY</td>\n",
       "      <td>33531568.0</td>\n",
       "    </tr>\n",
       "    <tr>\n",
       "      <th>1</th>\n",
       "      <td>26223</td>\n",
       "      <td>MOTOBOY</td>\n",
       "      <td>17549561.0</td>\n",
       "    </tr>\n",
       "    <tr>\n",
       "      <th>2</th>\n",
       "      <td>7615</td>\n",
       "      <td>MOTOBOY</td>\n",
       "      <td>3239427.0</td>\n",
       "    </tr>\n",
       "    <tr>\n",
       "      <th>3</th>\n",
       "      <td>7549</td>\n",
       "      <td>MOTOBOY</td>\n",
       "      <td>2761644.0</td>\n",
       "    </tr>\n",
       "    <tr>\n",
       "      <th>4</th>\n",
       "      <td>9806</td>\n",
       "      <td>MOTOBOY</td>\n",
       "      <td>2757244.0</td>\n",
       "    </tr>\n",
       "    <tr>\n",
       "      <th>5</th>\n",
       "      <td>4737</td>\n",
       "      <td>MOTOBOY</td>\n",
       "      <td>2742996.0</td>\n",
       "    </tr>\n",
       "    <tr>\n",
       "      <th>6</th>\n",
       "      <td>11522</td>\n",
       "      <td>MOTOBOY</td>\n",
       "      <td>2613932.0</td>\n",
       "    </tr>\n",
       "    <tr>\n",
       "      <th>7</th>\n",
       "      <td>32109</td>\n",
       "      <td>MOTOBOY</td>\n",
       "      <td>2551168.0</td>\n",
       "    </tr>\n",
       "    <tr>\n",
       "      <th>8</th>\n",
       "      <td>902</td>\n",
       "      <td>MOTOBOY</td>\n",
       "      <td>2477290.0</td>\n",
       "    </tr>\n",
       "    <tr>\n",
       "      <th>9</th>\n",
       "      <td>24584</td>\n",
       "      <td>MOTOBOY</td>\n",
       "      <td>2422352.0</td>\n",
       "    </tr>\n",
       "    <tr>\n",
       "      <th>10</th>\n",
       "      <td>21923</td>\n",
       "      <td>MOTOBOY</td>\n",
       "      <td>2405405.0</td>\n",
       "    </tr>\n",
       "    <tr>\n",
       "      <th>11</th>\n",
       "      <td>7799</td>\n",
       "      <td>MOTOBOY</td>\n",
       "      <td>2379044.0</td>\n",
       "    </tr>\n",
       "    <tr>\n",
       "      <th>12</th>\n",
       "      <td>34207</td>\n",
       "      <td>MOTOBOY</td>\n",
       "      <td>2366125.0</td>\n",
       "    </tr>\n",
       "    <tr>\n",
       "      <th>13</th>\n",
       "      <td>20495</td>\n",
       "      <td>MOTOBOY</td>\n",
       "      <td>2360047.0</td>\n",
       "    </tr>\n",
       "    <tr>\n",
       "      <th>14</th>\n",
       "      <td>5527</td>\n",
       "      <td>MOTOBOY</td>\n",
       "      <td>2317327.0</td>\n",
       "    </tr>\n",
       "    <tr>\n",
       "      <th>15</th>\n",
       "      <td>15561</td>\n",
       "      <td>MOTOBOY</td>\n",
       "      <td>2296883.0</td>\n",
       "    </tr>\n",
       "    <tr>\n",
       "      <th>16</th>\n",
       "      <td>17749</td>\n",
       "      <td>MOTOBOY</td>\n",
       "      <td>2296131.0</td>\n",
       "    </tr>\n",
       "    <tr>\n",
       "      <th>17</th>\n",
       "      <td>32130</td>\n",
       "      <td>MOTOBOY</td>\n",
       "      <td>2294530.0</td>\n",
       "    </tr>\n",
       "    <tr>\n",
       "      <th>18</th>\n",
       "      <td>41924</td>\n",
       "      <td>MOTOBOY</td>\n",
       "      <td>2284180.0</td>\n",
       "    </tr>\n",
       "    <tr>\n",
       "      <th>19</th>\n",
       "      <td>11063</td>\n",
       "      <td>MOTOBOY</td>\n",
       "      <td>2226761.0</td>\n",
       "    </tr>\n",
       "  </tbody>\n",
       "</table>\n",
       "</div>"
      ],
      "text/plain": [
       "    driver_id driver_modal  delivery_distance_meters\n",
       "0       25651      MOTOBOY                33531568.0\n",
       "1       26223      MOTOBOY                17549561.0\n",
       "2        7615      MOTOBOY                 3239427.0\n",
       "3        7549      MOTOBOY                 2761644.0\n",
       "4        9806      MOTOBOY                 2757244.0\n",
       "5        4737      MOTOBOY                 2742996.0\n",
       "6       11522      MOTOBOY                 2613932.0\n",
       "7       32109      MOTOBOY                 2551168.0\n",
       "8         902      MOTOBOY                 2477290.0\n",
       "9       24584      MOTOBOY                 2422352.0\n",
       "10      21923      MOTOBOY                 2405405.0\n",
       "11       7799      MOTOBOY                 2379044.0\n",
       "12      34207      MOTOBOY                 2366125.0\n",
       "13      20495      MOTOBOY                 2360047.0\n",
       "14       5527      MOTOBOY                 2317327.0\n",
       "15      15561      MOTOBOY                 2296883.0\n",
       "16      17749      MOTOBOY                 2296131.0\n",
       "17      32130      MOTOBOY                 2294530.0\n",
       "18      41924      MOTOBOY                 2284180.0\n",
       "19      11063      MOTOBOY                 2226761.0"
      ]
     },
     "execution_count": 206,
     "metadata": {},
     "output_type": "execute_result"
    }
   ],
   "source": [
    "# Ranking dos motoboys\n",
    "ranking_moto = ranking[ranking['driver_modal'] == \"MOTOBOY\"]\n",
    "ranking_moto.head(20)"
   ]
  },
  {
   "cell_type": "code",
   "execution_count": 207,
   "id": "25d343b5-5750-44cb-956e-e2c1414f862a",
   "metadata": {},
   "outputs": [
    {
     "data": {
      "text/html": [
       "<div>\n",
       "<style scoped>\n",
       "    .dataframe tbody tr th:only-of-type {\n",
       "        vertical-align: middle;\n",
       "    }\n",
       "\n",
       "    .dataframe tbody tr th {\n",
       "        vertical-align: top;\n",
       "    }\n",
       "\n",
       "    .dataframe thead th {\n",
       "        text-align: right;\n",
       "    }\n",
       "</style>\n",
       "<table border=\"1\" class=\"dataframe\">\n",
       "  <thead>\n",
       "    <tr style=\"text-align: right;\">\n",
       "      <th></th>\n",
       "      <th>driver_id</th>\n",
       "      <th>driver_modal</th>\n",
       "      <th>delivery_distance_meters</th>\n",
       "    </tr>\n",
       "  </thead>\n",
       "  <tbody>\n",
       "    <tr>\n",
       "      <th>199</th>\n",
       "      <td>3780</td>\n",
       "      <td>BIKER</td>\n",
       "      <td>995601.0</td>\n",
       "    </tr>\n",
       "    <tr>\n",
       "      <th>204</th>\n",
       "      <td>794</td>\n",
       "      <td>BIKER</td>\n",
       "      <td>971670.0</td>\n",
       "    </tr>\n",
       "    <tr>\n",
       "      <th>272</th>\n",
       "      <td>12724</td>\n",
       "      <td>BIKER</td>\n",
       "      <td>760635.0</td>\n",
       "    </tr>\n",
       "    <tr>\n",
       "      <th>286</th>\n",
       "      <td>7638</td>\n",
       "      <td>BIKER</td>\n",
       "      <td>723981.0</td>\n",
       "    </tr>\n",
       "    <tr>\n",
       "      <th>288</th>\n",
       "      <td>18487</td>\n",
       "      <td>BIKER</td>\n",
       "      <td>714211.0</td>\n",
       "    </tr>\n",
       "    <tr>\n",
       "      <th>303</th>\n",
       "      <td>1203</td>\n",
       "      <td>BIKER</td>\n",
       "      <td>685204.0</td>\n",
       "    </tr>\n",
       "    <tr>\n",
       "      <th>310</th>\n",
       "      <td>7773</td>\n",
       "      <td>BIKER</td>\n",
       "      <td>670548.0</td>\n",
       "    </tr>\n",
       "    <tr>\n",
       "      <th>313</th>\n",
       "      <td>14059</td>\n",
       "      <td>BIKER</td>\n",
       "      <td>669149.0</td>\n",
       "    </tr>\n",
       "    <tr>\n",
       "      <th>319</th>\n",
       "      <td>18748</td>\n",
       "      <td>BIKER</td>\n",
       "      <td>664427.0</td>\n",
       "    </tr>\n",
       "    <tr>\n",
       "      <th>320</th>\n",
       "      <td>4536</td>\n",
       "      <td>BIKER</td>\n",
       "      <td>658929.0</td>\n",
       "    </tr>\n",
       "    <tr>\n",
       "      <th>323</th>\n",
       "      <td>12079</td>\n",
       "      <td>BIKER</td>\n",
       "      <td>652391.0</td>\n",
       "    </tr>\n",
       "    <tr>\n",
       "      <th>333</th>\n",
       "      <td>9996</td>\n",
       "      <td>BIKER</td>\n",
       "      <td>640811.0</td>\n",
       "    </tr>\n",
       "    <tr>\n",
       "      <th>345</th>\n",
       "      <td>8771</td>\n",
       "      <td>BIKER</td>\n",
       "      <td>626174.0</td>\n",
       "    </tr>\n",
       "    <tr>\n",
       "      <th>349</th>\n",
       "      <td>34079</td>\n",
       "      <td>BIKER</td>\n",
       "      <td>620182.0</td>\n",
       "    </tr>\n",
       "    <tr>\n",
       "      <th>358</th>\n",
       "      <td>196</td>\n",
       "      <td>BIKER</td>\n",
       "      <td>601001.0</td>\n",
       "    </tr>\n",
       "    <tr>\n",
       "      <th>359</th>\n",
       "      <td>1301</td>\n",
       "      <td>BIKER</td>\n",
       "      <td>600603.0</td>\n",
       "    </tr>\n",
       "    <tr>\n",
       "      <th>366</th>\n",
       "      <td>9517</td>\n",
       "      <td>BIKER</td>\n",
       "      <td>589142.0</td>\n",
       "    </tr>\n",
       "    <tr>\n",
       "      <th>371</th>\n",
       "      <td>30314</td>\n",
       "      <td>BIKER</td>\n",
       "      <td>582136.0</td>\n",
       "    </tr>\n",
       "    <tr>\n",
       "      <th>372</th>\n",
       "      <td>1943</td>\n",
       "      <td>BIKER</td>\n",
       "      <td>581105.0</td>\n",
       "    </tr>\n",
       "    <tr>\n",
       "      <th>382</th>\n",
       "      <td>11941</td>\n",
       "      <td>BIKER</td>\n",
       "      <td>564101.0</td>\n",
       "    </tr>\n",
       "  </tbody>\n",
       "</table>\n",
       "</div>"
      ],
      "text/plain": [
       "     driver_id driver_modal  delivery_distance_meters\n",
       "199       3780        BIKER                  995601.0\n",
       "204        794        BIKER                  971670.0\n",
       "272      12724        BIKER                  760635.0\n",
       "286       7638        BIKER                  723981.0\n",
       "288      18487        BIKER                  714211.0\n",
       "303       1203        BIKER                  685204.0\n",
       "310       7773        BIKER                  670548.0\n",
       "313      14059        BIKER                  669149.0\n",
       "319      18748        BIKER                  664427.0\n",
       "320       4536        BIKER                  658929.0\n",
       "323      12079        BIKER                  652391.0\n",
       "333       9996        BIKER                  640811.0\n",
       "345       8771        BIKER                  626174.0\n",
       "349      34079        BIKER                  620182.0\n",
       "358        196        BIKER                  601001.0\n",
       "359       1301        BIKER                  600603.0\n",
       "366       9517        BIKER                  589142.0\n",
       "371      30314        BIKER                  582136.0\n",
       "372       1943        BIKER                  581105.0\n",
       "382      11941        BIKER                  564101.0"
      ]
     },
     "execution_count": 207,
     "metadata": {},
     "output_type": "execute_result"
    }
   ],
   "source": [
    "# Ranking dos bikers\n",
    "ranking_biker = ranking[ranking['driver_modal'] == \"BIKER\"]\n",
    "ranking_biker.head(20)"
   ]
  },
  {
   "cell_type": "markdown",
   "id": "7b4fb131-b948-4a31-8238-586e43da1bec",
   "metadata": {},
   "source": [
    "## 3.2. Média de metros percorridos por entrega em cada estado"
   ]
  },
  {
   "cell_type": "code",
   "execution_count": 219,
   "id": "5f021809-a1b1-44cd-afc9-a063221a1a03",
   "metadata": {},
   "outputs": [
    {
     "data": {
      "text/html": [
       "<div>\n",
       "<style scoped>\n",
       "    .dataframe tbody tr th:only-of-type {\n",
       "        vertical-align: middle;\n",
       "    }\n",
       "\n",
       "    .dataframe tbody tr th {\n",
       "        vertical-align: top;\n",
       "    }\n",
       "\n",
       "    .dataframe thead th {\n",
       "        text-align: right;\n",
       "    }\n",
       "</style>\n",
       "<table border=\"1\" class=\"dataframe\">\n",
       "  <thead>\n",
       "    <tr style=\"text-align: right;\">\n",
       "      <th></th>\n",
       "      <th>driver_modal</th>\n",
       "      <th>hub_state</th>\n",
       "      <th>mean_delivery_distance</th>\n",
       "    </tr>\n",
       "  </thead>\n",
       "  <tbody>\n",
       "    <tr>\n",
       "      <th>0</th>\n",
       "      <td>MOTOBOY</td>\n",
       "      <td>RS</td>\n",
       "      <td>3127.16</td>\n",
       "    </tr>\n",
       "    <tr>\n",
       "      <th>1</th>\n",
       "      <td>MOTOBOY</td>\n",
       "      <td>PR</td>\n",
       "      <td>2858.73</td>\n",
       "    </tr>\n",
       "    <tr>\n",
       "      <th>2</th>\n",
       "      <td>MOTOBOY</td>\n",
       "      <td>RJ</td>\n",
       "      <td>2701.26</td>\n",
       "    </tr>\n",
       "    <tr>\n",
       "      <th>3</th>\n",
       "      <td>MOTOBOY</td>\n",
       "      <td>SP</td>\n",
       "      <td>2569.44</td>\n",
       "    </tr>\n",
       "    <tr>\n",
       "      <th>4</th>\n",
       "      <td>BIKER</td>\n",
       "      <td>PR</td>\n",
       "      <td>1428.83</td>\n",
       "    </tr>\n",
       "    <tr>\n",
       "      <th>5</th>\n",
       "      <td>BIKER</td>\n",
       "      <td>RS</td>\n",
       "      <td>1184.39</td>\n",
       "    </tr>\n",
       "    <tr>\n",
       "      <th>6</th>\n",
       "      <td>BIKER</td>\n",
       "      <td>SP</td>\n",
       "      <td>1075.86</td>\n",
       "    </tr>\n",
       "    <tr>\n",
       "      <th>7</th>\n",
       "      <td>BIKER</td>\n",
       "      <td>RJ</td>\n",
       "      <td>1017.07</td>\n",
       "    </tr>\n",
       "  </tbody>\n",
       "</table>\n",
       "</div>"
      ],
      "text/plain": [
       "  driver_modal hub_state  mean_delivery_distance\n",
       "0      MOTOBOY        RS                 3127.16\n",
       "1      MOTOBOY        PR                 2858.73\n",
       "2      MOTOBOY        RJ                 2701.26\n",
       "3      MOTOBOY        SP                 2569.44\n",
       "4        BIKER        PR                 1428.83\n",
       "5        BIKER        RS                 1184.39\n",
       "6        BIKER        SP                 1075.86\n",
       "7        BIKER        RJ                 1017.07"
      ]
     },
     "execution_count": 219,
     "metadata": {},
     "output_type": "execute_result"
    }
   ],
   "source": [
    "media_entrega = df.groupby(['driver_modal', 'hub_state'])\\\n",
    ".agg(mean_delivery_distance = ('delivery_distance_meters', 'mean'))\\\n",
    ".sort_values(by = 'mean_delivery_distance', ascending = False).reset_index()\n",
    "media_entrega['mean_delivery_distance'] = media_entrega['mean_delivery_distance'].round(2)\n",
    "media_entrega"
   ]
  },
  {
   "cell_type": "markdown",
   "id": "9b645eac-4002-46f4-9bfd-39a359415b75",
   "metadata": {},
   "source": [
    "## 3.3. Receitas médias e totais por segmento e estados"
   ]
  },
  {
   "cell_type": "markdown",
   "id": "ac800a29-5467-4c09-b265-00d4ea42b9d9",
   "metadata": {},
   "source": [
    "### Receitas médias e totais por segmento"
   ]
  },
  {
   "cell_type": "code",
   "execution_count": 209,
   "id": "18c067af-d035-4210-a451-0c5d11735cdb",
   "metadata": {},
   "outputs": [
    {
     "data": {
      "text/html": [
       "<div>\n",
       "<style scoped>\n",
       "    .dataframe tbody tr th:only-of-type {\n",
       "        vertical-align: middle;\n",
       "    }\n",
       "\n",
       "    .dataframe tbody tr th {\n",
       "        vertical-align: top;\n",
       "    }\n",
       "\n",
       "    .dataframe thead th {\n",
       "        text-align: right;\n",
       "    }\n",
       "</style>\n",
       "<table border=\"1\" class=\"dataframe\">\n",
       "  <thead>\n",
       "    <tr style=\"text-align: right;\">\n",
       "      <th></th>\n",
       "      <th>store_segment</th>\n",
       "      <th>mean_revenue</th>\n",
       "    </tr>\n",
       "  </thead>\n",
       "  <tbody>\n",
       "    <tr>\n",
       "      <th>0</th>\n",
       "      <td>GOOD</td>\n",
       "      <td>11.96</td>\n",
       "    </tr>\n",
       "    <tr>\n",
       "      <th>1</th>\n",
       "      <td>FOOD</td>\n",
       "      <td>5.82</td>\n",
       "    </tr>\n",
       "  </tbody>\n",
       "</table>\n",
       "</div>"
      ],
      "text/plain": [
       "  store_segment  mean_revenue\n",
       "0          GOOD         11.96\n",
       "1          FOOD          5.82"
      ]
     },
     "execution_count": 209,
     "metadata": {},
     "output_type": "execute_result"
    }
   ],
   "source": [
    "# Receitas médias\n",
    "segment_mean_revenue = df.groupby(['store_segment'])\\\n",
    ".agg(mean_revenue = ('order_revenue', 'mean'))\\\n",
    ".sort_values(by = 'store_segment', ascending = False).reset_index()\n",
    "segment_mean_revenue['mean_revenue'] = segment_mean_revenue['mean_revenue'].round(2)\n",
    "segment_mean_revenue"
   ]
  },
  {
   "cell_type": "code",
   "execution_count": 210,
   "id": "14cc97c5-687f-4128-a349-dc926a4c281b",
   "metadata": {},
   "outputs": [
    {
     "data": {
      "text/plain": [
       "Text(0, 0.5, 'Receita (R$)')"
      ]
     },
     "execution_count": 210,
     "metadata": {},
     "output_type": "execute_result"
    },
    {
     "data": {
      "image/png": "[encoded data removed]",
      "text/plain": [
       "<Figure size 800x600 with 1 Axes>"
      ]
     },
     "metadata": {},
     "output_type": "display_data"
    }
   ],
   "source": [
    "fig, ax = plt.subplots(figsize = (8, 6))\n",
    "\n",
    "sns.barplot(segment_mean_revenue, x = 'store_segment', y = 'mean_revenue')\n",
    "ax.set_title('Receita Média por Entrega em Cada Segmento', fontsize = 15, pad = 12, loc = 'left')\n",
    "ax.set_xlabel('Segmento', fontsize = 12)\n",
    "ax.set_ylabel('Receita (R$)', fontsize = 12)"
   ]
  },
  {
   "cell_type": "code",
   "execution_count": 211,
   "id": "46daee67-b62e-481d-9a53-4bfaa425dd6e",
   "metadata": {},
   "outputs": [
    {
     "data": {
      "text/html": [
       "<div>\n",
       "<style scoped>\n",
       "    .dataframe tbody tr th:only-of-type {\n",
       "        vertical-align: middle;\n",
       "    }\n",
       "\n",
       "    .dataframe tbody tr th {\n",
       "        vertical-align: top;\n",
       "    }\n",
       "\n",
       "    .dataframe thead th {\n",
       "        text-align: right;\n",
       "    }\n",
       "</style>\n",
       "<table border=\"1\" class=\"dataframe\">\n",
       "  <thead>\n",
       "    <tr style=\"text-align: right;\">\n",
       "      <th></th>\n",
       "      <th>store_segment</th>\n",
       "      <th>total_revenue</th>\n",
       "    </tr>\n",
       "  </thead>\n",
       "  <tbody>\n",
       "    <tr>\n",
       "      <th>0</th>\n",
       "      <td>GOOD</td>\n",
       "      <td>266027.68</td>\n",
       "    </tr>\n",
       "    <tr>\n",
       "      <th>1</th>\n",
       "      <td>FOOD</td>\n",
       "      <td>2073005.87</td>\n",
       "    </tr>\n",
       "  </tbody>\n",
       "</table>\n",
       "</div>"
      ],
      "text/plain": [
       "  store_segment  total_revenue\n",
       "0          GOOD      266027.68\n",
       "1          FOOD     2073005.87"
      ]
     },
     "execution_count": 211,
     "metadata": {},
     "output_type": "execute_result"
    }
   ],
   "source": [
    "# Receitas totais\n",
    "segment_total_revenue = df.groupby(['store_segment'])\\\n",
    ".agg(total_revenue = ('order_revenue', 'sum'))\\\n",
    ".sort_values(by = 'store_segment', ascending = False).reset_index()\n",
    "segment_total_revenue['total_revenue'] = segment_total_revenue['total_revenue'].round(2)\n",
    "segment_total_revenue"
   ]
  },
  {
   "cell_type": "code",
   "execution_count": 212,
   "id": "540d1018-a7d7-4331-96bd-d6b8b49abe85",
   "metadata": {},
   "outputs": [
    {
     "data": {
      "text/plain": [
       "Text(0, 0.5, 'Receita (R$ x 1.000.000)')"
      ]
     },
     "execution_count": 212,
     "metadata": {},
     "output_type": "execute_result"
    },
    {
     "data": {
      "image/png": "[encoded data removed]",
      "text/plain": [
       "<Figure size 800x600 with 1 Axes>"
      ]
     },
     "metadata": {},
     "output_type": "display_data"
    }
   ],
   "source": [
    "fig, ax = plt.subplots(figsize = (8, 6))\n",
    "\n",
    "sns.barplot(segment_total_revenue, x = 'store_segment', y = 'total_revenue')\n",
    "ax.set_title('Receita Total em Cada Segmento', fontsize = 15, pad = 12, loc = 'left')\n",
    "ax.set_xlabel('Segmento', fontsize = 12)\n",
    "ax.set_ylabel('Receita (R$ x 1.000.000)', fontsize = 12)"
   ]
  },
  {
   "cell_type": "markdown",
   "id": "7736a18f-12e4-4d13-8d6c-b5fb5a27541d",
   "metadata": {},
   "source": [
    "### Receitas médias e totais por estado"
   ]
  },
  {
   "cell_type": "code",
   "execution_count": 213,
   "id": "543cc6e9-a4f4-47ce-a41b-cd3ab06cfb6c",
   "metadata": {},
   "outputs": [
    {
     "data": {
      "text/html": [
       "<div>\n",
       "<style scoped>\n",
       "    .dataframe tbody tr th:only-of-type {\n",
       "        vertical-align: middle;\n",
       "    }\n",
       "\n",
       "    .dataframe tbody tr th {\n",
       "        vertical-align: top;\n",
       "    }\n",
       "\n",
       "    .dataframe thead th {\n",
       "        text-align: right;\n",
       "    }\n",
       "</style>\n",
       "<table border=\"1\" class=\"dataframe\">\n",
       "  <thead>\n",
       "    <tr style=\"text-align: right;\">\n",
       "      <th></th>\n",
       "      <th>hub_state</th>\n",
       "      <th>mean_revenue</th>\n",
       "    </tr>\n",
       "  </thead>\n",
       "  <tbody>\n",
       "    <tr>\n",
       "      <th>0</th>\n",
       "      <td>PR</td>\n",
       "      <td>2.05</td>\n",
       "    </tr>\n",
       "    <tr>\n",
       "      <th>1</th>\n",
       "      <td>RJ</td>\n",
       "      <td>6.30</td>\n",
       "    </tr>\n",
       "    <tr>\n",
       "      <th>2</th>\n",
       "      <td>RS</td>\n",
       "      <td>3.69</td>\n",
       "    </tr>\n",
       "    <tr>\n",
       "      <th>3</th>\n",
       "      <td>SP</td>\n",
       "      <td>7.46</td>\n",
       "    </tr>\n",
       "  </tbody>\n",
       "</table>\n",
       "</div>"
      ],
      "text/plain": [
       "  hub_state  mean_revenue\n",
       "0        PR          2.05\n",
       "1        RJ          6.30\n",
       "2        RS          3.69\n",
       "3        SP          7.46"
      ]
     },
     "execution_count": 213,
     "metadata": {},
     "output_type": "execute_result"
    }
   ],
   "source": [
    "# Receita média\n",
    "state_mean_revenue = df.groupby('hub_state').agg(mean_revenue = ('order_revenue', 'mean')).reset_index()\n",
    "state_mean_revenue['mean_revenue'] = state_mean_revenue['mean_revenue'].round(2)\n",
    "state_mean_revenue"
   ]
  },
  {
   "cell_type": "code",
   "execution_count": 220,
   "id": "57389a53-4137-46a3-bd15-25ac574e3968",
   "metadata": {},
   "outputs": [
    {
     "data": {
      "image/png": "[encoded data removed]",
      "text/plain": [
       "<Figure size 800x600 with 1 Axes>"
      ]
     },
     "metadata": {},
     "output_type": "display_data"
    }
   ],
   "source": [
    "state_mean_revenue.sort_values(by = 'mean_revenue', ascending = False, inplace = True)\n",
    "\n",
    "fig, ax = plt.subplots(figsize = (8, 6))\n",
    "\n",
    "sns.barplot(state_mean_revenue, x = 'hub_state', y = 'mean_revenue')\n",
    "ax.set_title('Receita Média por Entrega em Cada Estado', fontsize = 15, pad = 12, loc = 'left')\n",
    "ax.set_xlabel('Estado', fontsize = 12)\n",
    "ax.set_ylabel('Receita (R$)', fontsize = 12)\n",
    "plt.show()"
   ]
  },
  {
   "cell_type": "code",
   "execution_count": 215,
   "id": "efa03ba8-9c64-422a-ae47-e8e7f843c7f5",
   "metadata": {},
   "outputs": [
    {
     "data": {
      "text/html": [
       "<div>\n",
       "<style scoped>\n",
       "    .dataframe tbody tr th:only-of-type {\n",
       "        vertical-align: middle;\n",
       "    }\n",
       "\n",
       "    .dataframe tbody tr th {\n",
       "        vertical-align: top;\n",
       "    }\n",
       "\n",
       "    .dataframe thead th {\n",
       "        text-align: right;\n",
       "    }\n",
       "</style>\n",
       "<table border=\"1\" class=\"dataframe\">\n",
       "  <thead>\n",
       "    <tr style=\"text-align: right;\">\n",
       "      <th></th>\n",
       "      <th>hub_state</th>\n",
       "      <th>total_revenue</th>\n",
       "    </tr>\n",
       "  </thead>\n",
       "  <tbody>\n",
       "    <tr>\n",
       "      <th>0</th>\n",
       "      <td>PR</td>\n",
       "      <td>66294.59</td>\n",
       "    </tr>\n",
       "    <tr>\n",
       "      <th>1</th>\n",
       "      <td>RJ</td>\n",
       "      <td>926442.74</td>\n",
       "    </tr>\n",
       "    <tr>\n",
       "      <th>2</th>\n",
       "      <td>RS</td>\n",
       "      <td>137065.08</td>\n",
       "    </tr>\n",
       "    <tr>\n",
       "      <th>3</th>\n",
       "      <td>SP</td>\n",
       "      <td>1209231.14</td>\n",
       "    </tr>\n",
       "  </tbody>\n",
       "</table>\n",
       "</div>"
      ],
      "text/plain": [
       "  hub_state  total_revenue\n",
       "0        PR       66294.59\n",
       "1        RJ      926442.74\n",
       "2        RS      137065.08\n",
       "3        SP     1209231.14"
      ]
     },
     "execution_count": 215,
     "metadata": {},
     "output_type": "execute_result"
    }
   ],
   "source": [
    "# Receitas totais\n",
    "state_total_revenue = df.groupby('hub_state').agg(total_revenue = ('order_revenue', 'sum')).reset_index()\n",
    "state_total_revenue['total_revenue'] = state_total_revenue['total_revenue'].round(2)\n",
    "state_total_revenue"
   ]
  },
  {
   "cell_type": "code",
   "execution_count": 221,
   "id": "1796be6e-8f73-4691-a304-94daba69913a",
   "metadata": {},
   "outputs": [
    {
     "data": {
      "image/png": "[encoded data removed]",
      "text/plain": [
       "<Figure size 800x600 with 1 Axes>"
      ]
     },
     "metadata": {},
     "output_type": "display_data"
    }
   ],
   "source": [
    "state_total_revenue.sort_values(by = 'total_revenue', ascending = False, inplace = True)\n",
    "\n",
    "fig, ax = plt.subplots(figsize = (8, 6))\n",
    "\n",
    "sns.barplot(state_total_revenue, x = 'hub_state', y = 'total_revenue')\n",
    "ax.set_title('Receita Total em Cada Estado', fontsize = 15, pad = 12, loc = 'left')\n",
    "ax.set_xlabel('Estado', fontsize = 12)\n",
    "ax.set_ylabel('Receita (R$ x 1.000.000)', fontsize = 12)\n",
    "plt.show()"
   ]
  },
  {
   "cell_type": "markdown",
   "id": "cd01dd1e-a540-4c97-8c00-0fd7f95ffb17",
   "metadata": {},
   "source": [
    "## 3.4. Bônus para os funcionários"
   ]
  },
  {
   "cell_type": "code",
   "execution_count": 217,
   "id": "b1f31217-7eab-4c27-be51-54b8a2160220",
   "metadata": {},
   "outputs": [
    {
     "name": "stdout",
     "output_type": "stream",
     "text": [
      "O bônus para cada funcionário será de R$ 233.9\n"
     ]
    }
   ],
   "source": [
    "print(f\"O bônus para cada funcionário será de R$ {(((df.order_revenue.sum()) * 0.20) / 2000).round(2)}\")"
   ]
  }
 ],
 "metadata": {
  "kernelspec": {
   "display_name": "Python 3 (ipykernel)",
   "language": "python",
   "name": "python3"
  },
  "language_info": {
   "codemirror_mode": {
    "name": "ipython",
    "version": 3
   },
   "file_extension": ".py",
   "mimetype": "text/x-python",
   "name": "python",
   "nbconvert_exporter": "python",
   "pygments_lexer": "ipython3",
   "version": "3.11.7"
  }
 },
 "nbformat": 4,
 "nbformat_minor": 5
}
